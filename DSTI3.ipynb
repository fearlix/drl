{
  "cells": [
    {
      "cell_type": "markdown",
      "metadata": {
        "id": "view-in-github",
        "colab_type": "text"
      },
      "source": [
        "<a href=\"https://colab.research.google.com/github/fearlix/drl/blob/main/DSTI3.ipynb\" target=\"_parent\"><img src=\"https://colab.research.google.com/assets/colab-badge.svg\" alt=\"Open In Colab\"/></a>"
      ]
    },
    {
      "cell_type": "markdown",
      "metadata": {
        "id": "ZvpXUret6sMp"
      },
      "source": [
        "# **Deep Learning Model for Image Classification for planes**"
      ]
    },
    {
      "cell_type": "markdown",
      "metadata": {
        "id": "q9rC7Sen6zOW"
      },
      "source": [
        "## **1. Imports & Setup**"
      ]
    },
    {
      "cell_type": "code",
      "execution_count": 20,
      "metadata": {
        "colab": {
          "base_uri": "https://localhost:8080/"
        },
        "id": "-N5IqAsS63eA",
        "outputId": "0aa253be-2cb6-4182-bb91-34ee1fe8836d"
      },
      "outputs": [
        {
          "output_type": "stream",
          "name": "stdout",
          "text": [
            "Requirement already satisfied: datasets in /usr/local/lib/python3.11/dist-packages (3.2.0)\n",
            "Requirement already satisfied: torchvision in /usr/local/lib/python3.11/dist-packages (0.20.1+cu124)\n",
            "Requirement already satisfied: torch in /usr/local/lib/python3.11/dist-packages (2.5.1+cu124)\n",
            "Requirement already satisfied: filelock in /usr/local/lib/python3.11/dist-packages (from datasets) (3.17.0)\n",
            "Requirement already satisfied: numpy>=1.17 in /usr/local/lib/python3.11/dist-packages (from datasets) (1.26.4)\n",
            "Requirement already satisfied: pyarrow>=15.0.0 in /usr/local/lib/python3.11/dist-packages (from datasets) (17.0.0)\n",
            "Requirement already satisfied: dill<0.3.9,>=0.3.0 in /usr/local/lib/python3.11/dist-packages (from datasets) (0.3.8)\n",
            "Requirement already satisfied: pandas in /usr/local/lib/python3.11/dist-packages (from datasets) (2.2.2)\n",
            "Requirement already satisfied: requests>=2.32.2 in /usr/local/lib/python3.11/dist-packages (from datasets) (2.32.3)\n",
            "Requirement already satisfied: tqdm>=4.66.3 in /usr/local/lib/python3.11/dist-packages (from datasets) (4.67.1)\n",
            "Requirement already satisfied: xxhash in /usr/local/lib/python3.11/dist-packages (from datasets) (3.5.0)\n",
            "Requirement already satisfied: multiprocess<0.70.17 in /usr/local/lib/python3.11/dist-packages (from datasets) (0.70.16)\n",
            "Requirement already satisfied: fsspec<=2024.9.0,>=2023.1.0 in /usr/local/lib/python3.11/dist-packages (from fsspec[http]<=2024.9.0,>=2023.1.0->datasets) (2024.9.0)\n",
            "Requirement already satisfied: aiohttp in /usr/local/lib/python3.11/dist-packages (from datasets) (3.11.11)\n",
            "Requirement already satisfied: huggingface-hub>=0.23.0 in /usr/local/lib/python3.11/dist-packages (from datasets) (0.27.1)\n",
            "Requirement already satisfied: packaging in /usr/local/lib/python3.11/dist-packages (from datasets) (24.2)\n",
            "Requirement already satisfied: pyyaml>=5.1 in /usr/local/lib/python3.11/dist-packages (from datasets) (6.0.2)\n",
            "Requirement already satisfied: pillow!=8.3.*,>=5.3.0 in /usr/local/lib/python3.11/dist-packages (from torchvision) (11.1.0)\n",
            "Requirement already satisfied: typing-extensions>=4.8.0 in /usr/local/lib/python3.11/dist-packages (from torch) (4.12.2)\n",
            "Requirement already satisfied: networkx in /usr/local/lib/python3.11/dist-packages (from torch) (3.4.2)\n",
            "Requirement already satisfied: jinja2 in /usr/local/lib/python3.11/dist-packages (from torch) (3.1.5)\n",
            "Requirement already satisfied: nvidia-cuda-nvrtc-cu12==12.4.127 in /usr/local/lib/python3.11/dist-packages (from torch) (12.4.127)\n",
            "Requirement already satisfied: nvidia-cuda-runtime-cu12==12.4.127 in /usr/local/lib/python3.11/dist-packages (from torch) (12.4.127)\n",
            "Requirement already satisfied: nvidia-cuda-cupti-cu12==12.4.127 in /usr/local/lib/python3.11/dist-packages (from torch) (12.4.127)\n",
            "Requirement already satisfied: nvidia-cudnn-cu12==9.1.0.70 in /usr/local/lib/python3.11/dist-packages (from torch) (9.1.0.70)\n",
            "Requirement already satisfied: nvidia-cublas-cu12==12.4.5.8 in /usr/local/lib/python3.11/dist-packages (from torch) (12.4.5.8)\n",
            "Requirement already satisfied: nvidia-cufft-cu12==11.2.1.3 in /usr/local/lib/python3.11/dist-packages (from torch) (11.2.1.3)\n",
            "Requirement already satisfied: nvidia-curand-cu12==10.3.5.147 in /usr/local/lib/python3.11/dist-packages (from torch) (10.3.5.147)\n",
            "Requirement already satisfied: nvidia-cusolver-cu12==11.6.1.9 in /usr/local/lib/python3.11/dist-packages (from torch) (11.6.1.9)\n",
            "Requirement already satisfied: nvidia-cusparse-cu12==12.3.1.170 in /usr/local/lib/python3.11/dist-packages (from torch) (12.3.1.170)\n",
            "Requirement already satisfied: nvidia-nccl-cu12==2.21.5 in /usr/local/lib/python3.11/dist-packages (from torch) (2.21.5)\n",
            "Requirement already satisfied: nvidia-nvtx-cu12==12.4.127 in /usr/local/lib/python3.11/dist-packages (from torch) (12.4.127)\n",
            "Requirement already satisfied: nvidia-nvjitlink-cu12==12.4.127 in /usr/local/lib/python3.11/dist-packages (from torch) (12.4.127)\n",
            "Requirement already satisfied: triton==3.1.0 in /usr/local/lib/python3.11/dist-packages (from torch) (3.1.0)\n",
            "Requirement already satisfied: sympy==1.13.1 in /usr/local/lib/python3.11/dist-packages (from torch) (1.13.1)\n",
            "Requirement already satisfied: mpmath<1.4,>=1.1.0 in /usr/local/lib/python3.11/dist-packages (from sympy==1.13.1->torch) (1.3.0)\n",
            "Requirement already satisfied: aiohappyeyeballs>=2.3.0 in /usr/local/lib/python3.11/dist-packages (from aiohttp->datasets) (2.4.4)\n",
            "Requirement already satisfied: aiosignal>=1.1.2 in /usr/local/lib/python3.11/dist-packages (from aiohttp->datasets) (1.3.2)\n",
            "Requirement already satisfied: attrs>=17.3.0 in /usr/local/lib/python3.11/dist-packages (from aiohttp->datasets) (25.1.0)\n",
            "Requirement already satisfied: frozenlist>=1.1.1 in /usr/local/lib/python3.11/dist-packages (from aiohttp->datasets) (1.5.0)\n",
            "Requirement already satisfied: multidict<7.0,>=4.5 in /usr/local/lib/python3.11/dist-packages (from aiohttp->datasets) (6.1.0)\n",
            "Requirement already satisfied: propcache>=0.2.0 in /usr/local/lib/python3.11/dist-packages (from aiohttp->datasets) (0.2.1)\n",
            "Requirement already satisfied: yarl<2.0,>=1.17.0 in /usr/local/lib/python3.11/dist-packages (from aiohttp->datasets) (1.18.3)\n",
            "Requirement already satisfied: charset-normalizer<4,>=2 in /usr/local/lib/python3.11/dist-packages (from requests>=2.32.2->datasets) (3.4.1)\n",
            "Requirement already satisfied: idna<4,>=2.5 in /usr/local/lib/python3.11/dist-packages (from requests>=2.32.2->datasets) (3.10)\n",
            "Requirement already satisfied: urllib3<3,>=1.21.1 in /usr/local/lib/python3.11/dist-packages (from requests>=2.32.2->datasets) (2.3.0)\n",
            "Requirement already satisfied: certifi>=2017.4.17 in /usr/local/lib/python3.11/dist-packages (from requests>=2.32.2->datasets) (2024.12.14)\n",
            "Requirement already satisfied: MarkupSafe>=2.0 in /usr/local/lib/python3.11/dist-packages (from jinja2->torch) (3.0.2)\n",
            "Requirement already satisfied: python-dateutil>=2.8.2 in /usr/local/lib/python3.11/dist-packages (from pandas->datasets) (2.8.2)\n",
            "Requirement already satisfied: pytz>=2020.1 in /usr/local/lib/python3.11/dist-packages (from pandas->datasets) (2024.2)\n",
            "Requirement already satisfied: tzdata>=2022.7 in /usr/local/lib/python3.11/dist-packages (from pandas->datasets) (2025.1)\n",
            "Requirement already satisfied: six>=1.5 in /usr/local/lib/python3.11/dist-packages (from python-dateutil>=2.8.2->pandas->datasets) (1.17.0)\n"
          ]
        }
      ],
      "source": [
        "!pip install datasets torchvision torch"
      ]
    },
    {
      "cell_type": "code",
      "execution_count": 21,
      "metadata": {
        "id": "M14wgIZB66ki"
      },
      "outputs": [],
      "source": [
        "from datasets import load_dataset, concatenate_datasets, DatasetDict\n",
        "from huggingface_hub import (\n",
        "    HfApi, login, whoami, create_repo, upload_file,\n",
        "    list_repo_files, hf_hub_download\n",
        ")\n",
        "\n",
        "import torch\n",
        "import torch.nn as nn\n",
        "import torch.optim as optim\n",
        "import torch.nn.functional as F\n",
        "from torch.utils.data import Dataset, DataLoader\n",
        "from torch.optim.lr_scheduler import CosineAnnealingLR\n",
        "\n",
        "import torchvision.models as models\n",
        "from torchvision import transforms\n",
        "from PIL import Image\n",
        "\n",
        "import pandas as pd\n",
        "import numpy as np\n",
        "import os\n",
        "\n",
        "import matplotlib.pyplot as plt\n",
        "import seaborn as sns\n",
        "\n",
        "from sklearn.model_selection import train_test_split\n",
        "from sklearn.utils.class_weight import compute_class_weight\n",
        "from sklearn.metrics import (\n",
        "    confusion_matrix, classification_report, precision_score,\n",
        "    recall_score, f1_score, roc_auc_score\n",
        ")\n",
        "\n",
        "from google.colab import userdata, files\n",
        "\n",
        "import random\n",
        "import time\n",
        "from tqdm import tqdm"
      ]
    },
    {
      "cell_type": "markdown",
      "metadata": {
        "id": "ymJ19CPxsjoa"
      },
      "source": [
        "## **2. Data Loading & Labeling**"
      ]
    },
    {
      "cell_type": "markdown",
      "metadata": {
        "id": "zOMPD-ka80PA"
      },
      "source": [
        "This function loads two datasets from Hugging Face: one for planes and one for cars. It prints both datasets to check if they were loaded correctly and then returns them for further use."
      ]
    },
    {
      "cell_type": "code",
      "execution_count": 22,
      "metadata": {
        "id": "TpDoBF7245ZP"
      },
      "outputs": [],
      "source": [
        "def load_datasets():\n",
        "    \"\"\"Loads the datasets from Hugging Face.\"\"\"\n",
        "    planes_dataset = load_dataset(\"fearlixg/planes_splitted\")\n",
        "    cars_dataset = load_dataset(\"fearlixg/cars_splitted\")\n",
        "    return planes_dataset, cars_dataset"
      ]
    },
    {
      "cell_type": "markdown",
      "metadata": {
        "id": "ppXSH9Wo83-4"
      },
      "source": [
        "This function adds labels to the datasets: **1 for planes** and **0 for cars**. It does this by applying a small helper function that adds a label field to each example. Then, it updates both the training and test sets of each dataset with the correct labels. Finally, it returns the updated datasets."
      ]
    },
    {
      "cell_type": "code",
      "execution_count": 23,
      "metadata": {
        "id": "FoNMAxwk85dV"
      },
      "outputs": [],
      "source": [
        "def label_datasets(planes_dataset, cars_dataset):\n",
        "    \"\"\"Assigns labels: Planes (1), Cars (0).\"\"\"\n",
        "    def add_label(example, label):\n",
        "        example[\"label\"] = label\n",
        "        return example\n",
        "\n",
        "    for dataset in [planes_dataset, cars_dataset]:\n",
        "        label = 1 if dataset == planes_dataset else 0\n",
        "        dataset[\"train\"] = dataset[\"train\"].map(lambda x: add_label(x, label))\n",
        "        dataset[\"test\"] = dataset[\"test\"].map(lambda x: add_label(x, label))\n",
        "\n",
        "    return planes_dataset, cars_dataset"
      ]
    },
    {
      "cell_type": "markdown",
      "metadata": {
        "id": "Nm_5Mj3AxacV"
      },
      "source": [
        "## **3. Merge & Balance the Dataset**"
      ]
    },
    {
      "cell_type": "markdown",
      "metadata": {
        "id": "1RnMXCLMiTIY"
      },
      "source": [
        "This function merges two datasets, one for planes and one for cars, and balances them by oversampling the smaller class. It first extracts the training and test sets from both datasets and checks the number of samples in each class. If one class has fewer samples, it generates additional images using data augmentation techniques such as random cropping, flipping, rotation, and color adjustments. The function then combines the original and augmented samples to create a balanced training set while merging the test sets without any modifications."
      ]
    },
    {
      "cell_type": "code",
      "execution_count": 24,
      "metadata": {
        "id": "jDJJbOwY9thg"
      },
      "outputs": [],
      "source": [
        "def merge_and_balance_datasets(planes_dataset, cars_dataset):\n",
        "    \"\"\"Merges and balances datasets by augmenting and oversampling the minority class.\"\"\"\n",
        "\n",
        "    # Extract train/test splits\n",
        "    train_planes, test_planes = planes_dataset[\"train\"], planes_dataset[\"test\"]\n",
        "    train_cars, test_cars = cars_dataset[\"train\"], cars_dataset[\"test\"]\n",
        "\n",
        "    num_planes = len(train_planes)\n",
        "    num_cars = len(train_cars)\n",
        "\n",
        "    print(f\"Before balancing: {num_planes} planes, {num_cars} cars\")\n",
        "\n",
        "    # Define the augmentation pipeline (moved inside this function)\n",
        "    def augment_example(example):\n",
        "        \"\"\"Applies random augmentations to oversampled images to prevent overfitting.\"\"\"\n",
        "        augmentation = transforms.Compose([\n",
        "            transforms.RandomResizedCrop(224, scale=(0.8, 1.0)),\n",
        "            transforms.RandomHorizontalFlip(p=0.5),\n",
        "            transforms.RandomRotation(degrees=30),\n",
        "            transforms.ColorJitter(brightness=0.2, contrast=0.2, saturation=0.2),  # Adjust color\n",
        "        ])\n",
        "\n",
        "        image = example[\"image\"]\n",
        "        if not isinstance(image, Image.Image):\n",
        "            image = Image.fromarray(image)\n",
        "\n",
        "        example[\"image\"] = augmentation(image)\n",
        "        return example\n",
        "\n",
        "    # Oversample minority class using augmentation\n",
        "    if num_planes > num_cars:\n",
        "        additional_cars = train_cars.shuffle(seed=42).map(augment_example).select(range(num_planes - num_cars))\n",
        "        balanced_train_dataset = concatenate_datasets([train_planes, train_cars, additional_cars])\n",
        "    elif num_cars > num_planes:\n",
        "        additional_planes = train_planes.shuffle(seed=42).map(augment_example).select(range(num_cars - num_planes))\n",
        "        balanced_train_dataset = concatenate_datasets([train_planes, train_cars, additional_planes])\n",
        "    else:\n",
        "        balanced_train_dataset = concatenate_datasets([train_planes, train_cars])\n",
        "\n",
        "    balanced_test_dataset = concatenate_datasets([test_planes, test_cars])\n",
        "\n",
        "    print(f\"After balancing: {len(balanced_train_dataset)} total training samples\")\n",
        "\n",
        "    return DatasetDict({\"train\": balanced_train_dataset, \"test\": balanced_test_dataset})\n"
      ]
    },
    {
      "cell_type": "markdown",
      "metadata": {
        "id": "VVXF-Q7ZygIp"
      },
      "source": [
        "## **4.  Data Augmentation & Transformations**"
      ]
    },
    {
      "cell_type": "markdown",
      "metadata": {
        "id": "QLKS9pDWicQ9"
      },
      "source": [
        "This function returns two transformer pipelines, one for training and one for testing, to preprocess images before they are fed into a model.\n",
        "\n",
        "The training transformer e.g. applies resizing to 224x224 pixels using bicubic interpolation, ensures images are in RGB format, and randomly crops and resizes images within a scale range to introduce variety.\n",
        "\n",
        "The test transformation follows a simpler approach by resizing the image to 224x224 pixels, converting it to RGB, applying tensor conversion, and normalizing it in the same way as the training transformation.\n"
      ]
    },
    {
      "cell_type": "code",
      "execution_count": 25,
      "metadata": {
        "id": "g83NPA6w-2i2"
      },
      "outputs": [],
      "source": [
        "def get_transforms():\n",
        "    \"\"\"Returns train and test transformations with optimized simplicity.\"\"\"\n",
        "    transform_train = transforms.Compose([\n",
        "        transforms.Resize((224, 224), interpolation=transforms.InterpolationMode.BICUBIC),\n",
        "        transforms.RandomResizedCrop(224, scale=(0.8, 1.0)),\n",
        "        transforms.RandomHorizontalFlip(p=0.5),\n",
        "        transforms.Lambda(lambda img: img.convert(\"RGB\")),\n",
        "        transforms.ToTensor(),\n",
        "        transforms.RandomRotation(degrees=30),\n",
        "        transforms.RandomAffine(degrees=0, translate=(0.2, 0.2)),\n",
        "        transforms.ColorJitter(brightness=0.4, contrast=0.4, saturation=0.4, hue=0.2),\n",
        "        transforms.GaussianBlur(kernel_size=3, sigma=(0.1, 2.0)),\n",
        "        transforms.RandomErasing(p=0.3, scale=(0.02, 0.3), ratio=(0.2, 3.0)),\n",
        "        transforms.Normalize([0.485, 0.456, 0.406], [0.229, 0.224, 0.225])\n",
        "    ])\n",
        "\n",
        "    transform_test = transforms.Compose([\n",
        "        transforms.Resize((224, 224), interpolation=transforms.InterpolationMode.BICUBIC),\n",
        "        transforms.Lambda(lambda img: img.convert(\"RGB\")),\n",
        "        transforms.ToTensor(),\n",
        "        transforms.Normalize([0.485, 0.456, 0.406], [0.229, 0.224, 0.225])\n",
        "    ])\n",
        "\n",
        "    return transform_train, transform_test\n"
      ]
    },
    {
      "cell_type": "markdown",
      "metadata": {
        "id": "JWGWi6uY_uWi"
      },
      "source": [
        "## **5.  Create DataLoaders**"
      ]
    },
    {
      "cell_type": "markdown",
      "metadata": {
        "id": "2WWkCpyBijKZ"
      },
      "source": [
        "This class creates a custom dataset for Hugging Face images so they can be used in PyTorch. Additionally the function creates DataLoaders for training and testing by applying the specified transformations that were created beforehand to the dataset.\n"
      ]
    },
    {
      "cell_type": "code",
      "execution_count": 26,
      "metadata": {
        "id": "Ie0WIOWi_s0H"
      },
      "outputs": [],
      "source": [
        "class HuggingFaceImageDataset(Dataset):\n",
        "    \"\"\"Custom dataset class for Hugging Face datasets.\"\"\"\n",
        "    def __init__(self, hf_dataset, transform=None):\n",
        "        self.dataset = hf_dataset\n",
        "        self.transform = transform\n",
        "\n",
        "    def __len__(self):\n",
        "        return len(self.dataset)\n",
        "\n",
        "    def __getitem__(self, idx):\n",
        "        item = self.dataset[idx]\n",
        "        image = item[\"image\"]\n",
        "\n",
        "        if not hasattr(image, \"convert\"):\n",
        "            image = Image.fromarray(image)\n",
        "\n",
        "        if self.transform:\n",
        "            image = self.transform(image)\n",
        "\n",
        "        return image, item[\"label\"]"
      ]
    },
    {
      "cell_type": "code",
      "execution_count": 27,
      "metadata": {
        "id": "N5liSZD3YqO1"
      },
      "outputs": [],
      "source": [
        "def prepare_datasets(final_dataset, transform_train, transform_test):\n",
        "    \"\"\"Creates DataLoaders for training and testing.\"\"\"\n",
        "    train_data = HuggingFaceImageDataset(final_dataset[\"train\"], transform=transform_train)\n",
        "    test_data = HuggingFaceImageDataset(final_dataset[\"test\"], transform=transform_test)\n",
        "\n",
        "    train_loader = DataLoader(train_data, batch_size=32, shuffle=True)\n",
        "    test_loader = DataLoader(test_data, batch_size=32, shuffle=False)\n",
        "\n",
        "    return train_loader, test_loader"
      ]
    },
    {
      "cell_type": "markdown",
      "metadata": {
        "id": "VWV8AWz6ArHo"
      },
      "source": [
        "## **6.  Define model functions**"
      ]
    },
    {
      "cell_type": "markdown",
      "metadata": {
        "id": "odNAMw1oisDY"
      },
      "source": [
        "The setup_device function checks if a GPU is available and returns the appropriate device, either CUDA or CPU.\n",
        "\n",
        "The ConvNN class defines a convolutional neural network designed for binary classification between planes and cars. It consists of multiple convolutional layers with ReLU activations, max pooling, and batch normalization to extract features from images. The network includes an adaptive average pooling layer followed by fully connected layers with dropout and LeakyReLU activations to improve generalization.\n",
        "\n",
        "The setup_model function initializes this network and moves it to the selected device. The setup_training_components function sets up the loss function with label smoothing, the Adam optimizer with weight decay, and a learning rate scheduler that reduces the learning rate when performance plateaus. The mixup_criterion function implements a loss calculation method for mixup augmentation by interpolating labels for better model generalization.\n",
        "\n",
        "Additionally plot functions were created.\n"
      ]
    },
    {
      "cell_type": "code",
      "execution_count": 28,
      "metadata": {
        "id": "NSS4d31FVqcZ"
      },
      "outputs": [],
      "source": [
        "def setup_device():\n",
        "    \"\"\"Returns the available device (GPU or CPU).\"\"\"\n",
        "    return torch.device(\"cuda\" if torch.cuda.is_available() else \"cpu\")"
      ]
    },
    {
      "cell_type": "code",
      "execution_count": 29,
      "metadata": {
        "id": "Ar74dUQeVvWf"
      },
      "outputs": [],
      "source": [
        "class ConvNN(nn.Module):\n",
        "    \"\"\"Custom Convolutional Neural Network for binary classification (plane vs. car).\"\"\"\n",
        "\n",
        "    def __init__(self, num_classes: int = 2):\n",
        "        super(ConvNN, self).__init__()\n",
        "\n",
        "        self.features = nn.Sequential(\n",
        "            nn.Conv2d(3, 64, kernel_size=11, stride=4, padding=2),\n",
        "            nn.ReLU(inplace=True),\n",
        "            nn.MaxPool2d(kernel_size=3, stride=2),\n",
        "            nn.Conv2d(64, 192, kernel_size=5, padding=2),\n",
        "            nn.ReLU(inplace=True),\n",
        "            nn.MaxPool2d(kernel_size=3, stride=2),\n",
        "            nn.Conv2d(192, 384, kernel_size=3, padding=1),\n",
        "            nn.ReLU(inplace=True),\n",
        "            nn.Conv2d(384, 256, kernel_size=3, padding=1),\n",
        "            nn.ReLU(inplace=True),\n",
        "            nn.Conv2d(256, 256, kernel_size=3, padding=1),\n",
        "            nn.ReLU(inplace=True),\n",
        "            nn.MaxPool2d(kernel_size=3, stride=2),\n",
        "        )\n",
        "\n",
        "        self.avgpool = nn.AdaptiveAvgPool2d((6, 6))\n",
        "\n",
        "        self.classifier = nn.Sequential(\n",
        "            nn.Dropout(p=0.6),\n",
        "            nn.Linear(256 * 6 * 6, 1024),\n",
        "            nn.ReLU(inplace=True),\n",
        "            nn.Dropout(p=0.6),\n",
        "            nn.Linear(1024, 512),\n",
        "            nn.ReLU(inplace=True),\n",
        "            nn.Linear(512, 2)\n",
        "        )\n",
        "\n",
        "\n",
        "    def forward(self, x):\n",
        "        x = self.features(x)\n",
        "        x = self.avgpool(x)\n",
        "        x = torch.flatten(x, 1)\n",
        "        x = self.classifier(x)\n",
        "        return x\n",
        "\n",
        "def setup_model(device):\n",
        "    \"\"\"Initializes and moves the ConvNN model to the specified device.\"\"\"\n",
        "    model = ConvNN(num_classes=2)  # Set 2 output classes (plane vs. car)\n",
        "    return model.to(device)\n",
        "\n",
        "def setup_training_components(model, train_loader):\n",
        "    \"\"\"Initializes loss function, optimizer, and scheduler for stability and efficiency.\"\"\"\n",
        "\n",
        "    criterion = nn.CrossEntropyLoss(label_smoothing=0.2)\n",
        "\n",
        "    optimizer = optim.Adam(model.parameters(), lr=0.0001, weight_decay=0.001)\n",
        "\n",
        "    scheduler = optim.lr_scheduler.ReduceLROnPlateau(optimizer, mode='max', factor=0.5, patience=2, verbose=True)\n",
        "\n",
        "    return criterion, optimizer, scheduler"
      ]
    },
    {
      "cell_type": "code",
      "execution_count": 30,
      "metadata": {
        "id": "QDa6R1k4eR0-"
      },
      "outputs": [],
      "source": [
        "def mixup_criterion(criterion, pred, y_a, y_b, lam):\n",
        "    return lam * criterion(pred, y_a) + (1 - lam) * criterion(pred, y_b)"
      ]
    },
    {
      "cell_type": "code",
      "execution_count": 31,
      "metadata": {
        "id": "7NFMAyt2sM1P"
      },
      "outputs": [],
      "source": [
        "def plot_accuracy(history):\n",
        "    \"\"\"Plots training & testing accuracy over epochs.\"\"\"\n",
        "    epochs = range(1, len(history[\"train_acc\"]) + 1)\n",
        "\n",
        "    plt.figure(figsize=(8, 5))\n",
        "    plt.plot(epochs, history[\"train_acc\"], label=\"Train Accuracy\", marker=\"o\", linestyle=\"-\")\n",
        "    plt.plot(epochs, history[\"test_acc\"], label=\"Test Accuracy\", marker=\"s\", linestyle=\"--\")\n",
        "\n",
        "    plt.xlabel(\"Epochs\")\n",
        "    plt.ylabel(\"Accuracy\")\n",
        "    plt.title(\"Training & Testing Accuracy Over Epochs\")\n",
        "    plt.legend()\n",
        "    plt.grid()\n",
        "    plt.show()\n",
        "\n",
        "def plot_confusion_matrix(true_labels, pred_labels):\n",
        "    \"\"\"Plots confusion matrix after training.\"\"\"\n",
        "    cm = confusion_matrix(true_labels, pred_labels)\n",
        "\n",
        "    plt.figure(figsize=(6, 5))\n",
        "    sns.heatmap(cm, annot=True, fmt=\"d\", cmap=\"Blues\", xticklabels=[\"Class 0\", \"Class 1\"], yticklabels=[\"Class 0\", \"Class 1\"])\n",
        "\n",
        "    plt.xlabel(\"Predicted\")\n",
        "    plt.ylabel(\"Actual\")\n",
        "    plt.title(\"Confusion Matrix\")\n",
        "    plt.show()\n"
      ]
    },
    {
      "cell_type": "markdown",
      "metadata": {
        "id": "oHITDL9fz3ps"
      },
      "source": [
        "## **7.  Define Training**"
      ]
    },
    {
      "cell_type": "markdown",
      "metadata": {
        "id": "kLICRg_Ci_is"
      },
      "source": [
        "This function trains a deep learning model while tracking accuracy and plotting results. It loops through a set number of epochs, training the model using the provided optimizer and loss function. During each epoch, it calculates training accuracy by comparing predicted labels with actual labels. After training, it evaluates the model on the test set without updating weights. It stores test accuracy, predictions, and labels for later analysis. If the model improves, it saves the best version. If performance does not improve for a set number of epochs, it stops training early. After training, it plots accuracy trends and generates a confusion matrix for performance visualization.\n"
      ]
    },
    {
      "cell_type": "code",
      "execution_count": 32,
      "metadata": {
        "id": "55cFZUklA7BW"
      },
      "outputs": [],
      "source": [
        "def train_model(model, train_loader, test_loader, criterion, optimizer, scheduler, device, epochs=10, patience=5):\n",
        "    \"\"\"\n",
        "    Trains a model while tracking accuracy, showing progress percentage, estimating time left, and plotting results.\n",
        "\n",
        "    Returns:\n",
        "    - model: Best trained model.\n",
        "    - history: Dictionary containing accuracy values for plotting.\n",
        "    \"\"\"\n",
        "\n",
        "    best_accuracy = 0\n",
        "    patience_counter = 0\n",
        "    history = {\"train_acc\": [], \"test_acc\": []}\n",
        "\n",
        "    print(f\"\\n Training Model for {epochs} Epochs...\\n\")\n",
        "\n",
        "    start_time = time.time()\n",
        "\n",
        "    for epoch in range(epochs):\n",
        "        epoch_start = time.time()\n",
        "        model.train()\n",
        "        correct_train = 0\n",
        "        total_train = 0\n",
        "        num_batches = len(train_loader)\n",
        "\n",
        "        print(f\"\\nEpoch {epoch+1}/{epochs} Training...\")\n",
        "\n",
        "        # Training loop with progress percentage\n",
        "        for batch_idx, (images, labels) in enumerate(train_loader):\n",
        "            images, labels = images.to(device), labels.to(device)\n",
        "\n",
        "            optimizer.zero_grad()\n",
        "            outputs = model(images)\n",
        "            loss = criterion(outputs, labels)\n",
        "            loss.backward()\n",
        "            optimizer.step()\n",
        "\n",
        "            _, predicted = torch.max(outputs, 1)\n",
        "            correct_train += (predicted == labels).sum().item()\n",
        "            total_train += labels.size(0)\n",
        "\n",
        "            # Live progress update\n",
        "            progress = int((batch_idx + 1) / num_batches * 100)\n",
        "            time_per_batch = (time.time() - epoch_start) / (batch_idx + 1)\n",
        "            estimated_time = (num_batches - (batch_idx + 1)) * time_per_batch\n",
        "\n",
        "            print(f\"\\rTraining Progress: {progress}% | Estimated Time Left: {estimated_time:.2f}s\", end=\"\")\n",
        "\n",
        "        train_accuracy = correct_train / total_train\n",
        "        history[\"train_acc\"].append(train_accuracy)\n",
        "\n",
        "        # Validation loop\n",
        "        model.eval()\n",
        "        correct_test = 0\n",
        "        total_test = 0\n",
        "        all_preds = []\n",
        "        all_labels = []\n",
        "\n",
        "        with torch.no_grad():\n",
        "            for images, labels in test_loader:\n",
        "                images, labels = images.to(device), labels.to(device)\n",
        "                outputs = model(images)\n",
        "                _, predicted = torch.max(outputs, 1)\n",
        "\n",
        "                correct_test += (predicted == labels).sum().item()\n",
        "                total_test += labels.size(0)\n",
        "\n",
        "                all_preds.extend(predicted.cpu().numpy())\n",
        "                all_labels.extend(labels.cpu().numpy())\n",
        "\n",
        "        test_accuracy = correct_test / total_test\n",
        "        history[\"test_acc\"].append(test_accuracy)\n",
        "\n",
        "        epoch_duration = time.time() - epoch_start\n",
        "        print(f\"\\nEpoch {epoch+1}/{epochs} Completed: Train Acc: {train_accuracy:.4f}, Test Acc: {test_accuracy:.4f} | Time Taken: {epoch_duration:.2f}s\")\n",
        "\n",
        "        if test_accuracy > best_accuracy:\n",
        "            best_accuracy = test_accuracy\n",
        "            torch.save(model.state_dict(), \"best_checkpoint.model\")\n",
        "            patience_counter = 0  #\n",
        "        else:\n",
        "            patience_counter += 1\n",
        "\n",
        "        if patience_counter >= patience:\n",
        "            print(f\"Early stopping at epoch {epoch+1}. Best test accuracy: {best_accuracy:.4f}\")\n",
        "            break\n",
        "\n",
        "        if scheduler:\n",
        "            scheduler.step(test_accuracy)\n",
        "\n",
        "    total_training_time = time.time() - start_time\n",
        "    print(f\"\\n Training Completed in {total_training_time:.2f}s\")\n",
        "\n",
        "    plot_accuracy(history)\n",
        "    plot_confusion_matrix(all_labels, all_preds)\n",
        "\n",
        "    return model"
      ]
    },
    {
      "cell_type": "markdown",
      "metadata": {
        "id": "vpRyZup6LWiu"
      },
      "source": [
        "## **8.  Define Validation**"
      ]
    },
    {
      "cell_type": "markdown",
      "metadata": {
        "id": "-MVHkOLljLhZ"
      },
      "source": [
        "This function evaluates a trained model using a test dataset and prints performance metrics. It switches the model to evaluation mode and processes the test images without updating weights. It computes predictions by selecting the class with the highest probability and extracts confidence scores for class 1. The function calculates overall accuracy by comparing predictions with actual labels. It generates a confusion matrix and automatically detects the number of unique classes to create class labels dynamically. It computes precision, recall, F1-score, and ROC-AUC score to assess classification performance. Finally, it prints a detailed classification report and visualizes the confusion matrix using a heatmap."
      ]
    },
    {
      "cell_type": "code",
      "execution_count": 33,
      "metadata": {
        "id": "vHwX7e-AIw6J"
      },
      "outputs": [],
      "source": [
        "def validate_model(model, test_loader, device):\n",
        "    \"\"\"Evaluates the model and prints performance metrics.\"\"\"\n",
        "    model.eval()\n",
        "    correct, total = 0, 0\n",
        "    all_labels, all_predictions, all_probs = [], [], []\n",
        "\n",
        "    with torch.no_grad():\n",
        "        for images, labels in test_loader:\n",
        "            images, labels = images.to(device), labels.to(device)\n",
        "\n",
        "            outputs = model(images)\n",
        "\n",
        "            _, predicted = torch.max(outputs, 1)\n",
        "            probs = F.softmax(outputs, dim=1)[:, 1]  # Probability for class 1\n",
        "\n",
        "            total += labels.size(0)\n",
        "            correct += (predicted == labels).sum().item()\n",
        "            all_labels.extend(labels.cpu().numpy())\n",
        "            all_predictions.extend(predicted.cpu().numpy())\n",
        "            all_probs.extend(probs.cpu().numpy())\n",
        "\n",
        "    accuracy = 100 * correct / total\n",
        "    conf_matrix = confusion_matrix(all_labels, all_predictions)\n",
        "\n",
        "    # Automatically detect number of classes\n",
        "    unique_classes = sorted(set(all_labels))\n",
        "    num_classes = len(unique_classes)\n",
        "\n",
        "    # Dynamically create class names\n",
        "    target_names = [f\"Class {i}\" for i in unique_classes]\n",
        "\n",
        "    precision = precision_score(all_labels, all_predictions, average='weighted', zero_division=0)\n",
        "    recall = recall_score(all_labels, all_predictions, average='weighted', zero_division=0)\n",
        "    f1 = f1_score(all_labels, all_predictions, average='weighted', zero_division=0)\n",
        "    roc_auc = roc_auc_score(all_labels, all_probs, multi_class=\"ovr\")\n",
        "\n",
        "    print(f\"\\nTest Accuracy: {accuracy:.2f}%\")\n",
        "    print(f\"Precision: {precision:.2f}\")\n",
        "    print(f\"Recall: {recall:.2f}\")\n",
        "    print(f\"F1-Score: {f1:.2f}\")\n",
        "    print(f\"ROC-AUC Score: {roc_auc:.2f}\")\n",
        "    print(\"\\nClassification Report:\")\n",
        "    print(classification_report(all_labels, all_predictions, target_names=target_names))\n",
        "\n",
        "    return accuracy"
      ]
    },
    {
      "cell_type": "markdown",
      "metadata": {
        "id": "bVXEQsQ7Q1z6"
      },
      "source": [
        "## **9. Uploading best model**"
      ]
    },
    {
      "cell_type": "markdown",
      "metadata": {
        "id": "js4YHrOEjcpf"
      },
      "source": []
    },
    {
      "cell_type": "code",
      "execution_count": 34,
      "metadata": {
        "id": "HwilWrTWQ72m"
      },
      "outputs": [],
      "source": [
        "def get_huggingface_token():\n",
        "    \"\"\"Fetches the stored Hugging Face token from Google Colab secrets, logs in, and returns the token.\"\"\"\n",
        "    from google.colab import userdata\n",
        "    from huggingface_hub import login\n",
        "\n",
        "    hf_token = userdata.get(\"HF_TOKEN\")\n",
        "\n",
        "    if hf_token:\n",
        "        login(token=hf_token)\n",
        "        print(\"Successfully logged in to Hugging Face!\")\n",
        "        return hf_token\n",
        "    else:\n",
        "        print(\"Hugging Face token not found. Please set it manually in Colab secrets.\")\n",
        "        return None\n",
        "\n",
        "\n",
        "def get_repo_id_and_model(hf_token, model_name):\n",
        "    \"\"\"Generates the repository ID and model filename for Hugging Face models.\"\"\"\n",
        "    try:\n",
        "        user_info = whoami(token=hf_token)\n",
        "        username = user_info.get(\"name\") or user_info.get(\"login\", \"Unknown User\")\n",
        "\n",
        "        if username == \"Unknown User\":\n",
        "            print(\"Error: Could not retrieve username. Please check your token.\")\n",
        "            return None, None\n",
        "\n",
        "        repo_id = f\"{username}/{model_name}\"\n",
        "        model_filename = f\"best_{model_name}\"\n",
        "\n",
        "        print(\"Repo ID:\", repo_id)\n",
        "        print(\"Model Filename:\", model_filename)\n",
        "\n",
        "        return repo_id, model_filename\n",
        "    except Exception as e:\n",
        "        print(f\"Error fetching repo ID: {e}\")\n",
        "        return None, None\n",
        "\n",
        "\n",
        "def upload_new_model_with_timestamp(model, repo_id, model_name, hf_token=None):\n",
        "    \"\"\"Uploads the model with a timestamp to Hugging Face.\"\"\"\n",
        "    if hf_token:\n",
        "        login(token=hf_token)\n",
        "    else:\n",
        "        print(\"Hugging Face token is missing.\")\n",
        "        return\n",
        "\n",
        "    try:\n",
        "        list_repo_files(repo_id, token=hf_token)\n",
        "    except Exception:\n",
        "        create_repo(repo_id, exist_ok=True, token=hf_token)\n",
        "\n",
        "    timestamp = time.strftime(\"%Y%m%d_%H%M%S\")\n",
        "    model_filename = f\"{model_name}_{timestamp}.pth\"\n",
        "\n",
        "    torch.save(model.state_dict(), model_filename)\n",
        "    upload_file(path_or_fileobj=model_filename, path_in_repo=model_filename, repo_id=repo_id, token=hf_token)\n",
        "    print(f\"Model uploaded as {repo_id}/{model_filename}\")\n"
      ]
    },
    {
      "cell_type": "markdown",
      "metadata": {
        "id": "auwk7XesBWiu"
      },
      "source": [
        "## **10.  Main Function**"
      ]
    },
    {
      "cell_type": "markdown",
      "metadata": {
        "id": "ZHvME-BHjiEM"
      },
      "source": [
        "This function runs the full training and evaluation process step by step."
      ]
    },
    {
      "cell_type": "code",
      "execution_count": 35,
      "metadata": {
        "colab": {
          "base_uri": "https://localhost:8080/",
          "height": 1000,
          "referenced_widgets": [
            "825ea019058347fdb968a03c5b9817ef",
            "1141f3326cbd4d4eae755ce3d91d5424",
            "86a2ed9b62b046d7840029f539ff657f",
            "581b05a47d47494caad65a806d51602f",
            "c15f727838f64b479b5066e85eee7e8c",
            "7a5c05e1c33c4b13851d05f71fcce654",
            "6314c482f6654920a0d4eca88bcbea23",
            "a4836678f3dd495fb8e26ebb14ef52c8",
            "803865c504e64bf4ba42b9b56b9a2967",
            "37a8a9df50964257b767ee0938567797",
            "d58911b0533644969799c5d86d529497"
          ]
        },
        "id": "AvlxJl7gBO4N",
        "outputId": "371d42b0-7bc0-49d1-971a-e6c0090aa797"
      },
      "outputs": [
        {
          "output_type": "stream",
          "name": "stdout",
          "text": [
            "### Getting Hugging Face authentication ###\n",
            "Successfully logged in to Hugging Face!\n",
            "Repo ID: fearlixg/cars_vs_planes_model\n",
            "Model Filename: best_cars_vs_planes_model\n",
            "fearlixg/cars_vs_planes_model\n",
            "### Loading datasets ###\n",
            "### Labeling datasets ###\n",
            "### Merging and balancing datasets ###\n",
            "Before balancing: 8000 planes, 6515 cars\n",
            "After balancing: 16000 total training samples\n",
            "### Applying data transformations ###\n",
            "### Creating DataLoaders ###\n",
            "### Initializing model ###\n",
            "### Training the model ###\n",
            "\n",
            " Training Model for 8 Epochs...\n",
            "\n",
            "\n",
            "Epoch 1/8 Training...\n",
            "Training Progress: 100% | Estimated Time Left: 0.00s\n",
            "Epoch 1/8 Completed: Train Acc: 0.7909, Test Acc: 0.9264 | Time Taken: 403.23s\n",
            "\n",
            "Epoch 2/8 Training...\n",
            "Training Progress: 100% | Estimated Time Left: 0.00s\n",
            "Epoch 2/8 Completed: Train Acc: 0.9073, Test Acc: 0.9498 | Time Taken: 408.13s\n",
            "\n",
            "Epoch 3/8 Training...\n",
            "Training Progress: 100% | Estimated Time Left: 0.00s\n",
            "Epoch 3/8 Completed: Train Acc: 0.9321, Test Acc: 0.9639 | Time Taken: 412.32s\n",
            "\n",
            "Epoch 4/8 Training...\n",
            "Training Progress: 100% | Estimated Time Left: 0.00s\n",
            "Epoch 4/8 Completed: Train Acc: 0.9421, Test Acc: 0.9716 | Time Taken: 402.85s\n",
            "\n",
            "Epoch 5/8 Training...\n",
            "Training Progress: 100% | Estimated Time Left: 0.00s\n",
            "Epoch 5/8 Completed: Train Acc: 0.9456, Test Acc: 0.9576 | Time Taken: 400.50s\n",
            "\n",
            "Epoch 6/8 Training...\n",
            "Training Progress: 100% | Estimated Time Left: 0.00s\n",
            "Epoch 6/8 Completed: Train Acc: 0.9559, Test Acc: 0.9352 | Time Taken: 400.99s\n",
            "\n",
            "Epoch 7/8 Training...\n",
            "Training Progress: 100% | Estimated Time Left: 0.00s\n",
            "Epoch 7/8 Completed: Train Acc: 0.9580, Test Acc: 0.9771 | Time Taken: 402.70s\n",
            "\n",
            "Epoch 8/8 Training...\n",
            "Training Progress: 100% | Estimated Time Left: 0.00s\n",
            "Epoch 8/8 Completed: Train Acc: 0.9631, Test Acc: 0.9832 | Time Taken: 400.43s\n",
            "\n",
            " Training Completed in 3231.85s\n"
          ]
        },
        {
          "output_type": "display_data",
          "data": {
            "text/plain": [
              "<Figure size 800x500 with 1 Axes>"
            ],
            "image/png": "[encoded data removed]"
          },
          "metadata": {}
        },
        {
          "output_type": "display_data",
          "data": {
            "text/plain": [
              "<Figure size 600x500 with 2 Axes>"
            ],
            "image/png": "[encoded data removed]"
          },
          "metadata": {}
        },
        {
          "output_type": "stream",
          "name": "stdout",
          "text": [
            "### validating the best model ###\n",
            "\n",
            "Test Accuracy: 98.32%\n",
            "Precision: 0.98\n",
            "Recall: 0.98\n",
            "F1-Score: 0.98\n",
            "ROC-AUC Score: 1.00\n",
            "\n",
            "Classification Report:\n",
            "              precision    recall  f1-score   support\n",
            "\n",
            "     Class 0       0.98      0.98      0.98      1629\n",
            "     Class 1       0.98      0.99      0.98      2000\n",
            "\n",
            "    accuracy                           0.98      3629\n",
            "   macro avg       0.98      0.98      0.98      3629\n",
            "weighted avg       0.98      0.98      0.98      3629\n",
            "\n",
            "### Uploading the trained model ###\n"
          ]
        },
        {
          "output_type": "display_data",
          "data": {
            "text/plain": [
              "best_cars_vs_planes_model_20250206_190324.pth:   0%|          | 0.00/49.7M [00:00<?, ?B/s]"
            ],
            "application/vnd.jupyter.widget-view+json": {
              "version_major": 2,
              "version_minor": 0,
              "model_id": "825ea019058347fdb968a03c5b9817ef"
            }
          },
          "metadata": {}
        },
        {
          "output_type": "stream",
          "name": "stdout",
          "text": [
            "Model uploaded as fearlixg/cars_vs_planes_model/best_cars_vs_planes_model_20250206_190324.pth\n"
          ]
        }
      ],
      "source": [
        "def main():\n",
        "\n",
        "    # Variables\n",
        "    EPOCHS = 8\n",
        "    MODEL_NAME = \"cars_vs_planes_model\"\n",
        "\n",
        "    \"\"\"Runs the full training and evaluation pipeline.\"\"\"\n",
        "    print(\"### Getting Hugging Face authentication ###\")\n",
        "    hf_token = get_huggingface_token()\n",
        "\n",
        "    repo_id, model_filename = get_repo_id_and_model(hf_token, MODEL_NAME)\n",
        "\n",
        "    print(repo_id)\n",
        "    device = setup_device()\n",
        "\n",
        "    print(\"### Loading datasets ###\")\n",
        "    planes_dataset, cars_dataset = load_datasets()\n",
        "\n",
        "    print(\"### Labeling datasets ###\")\n",
        "    planes_dataset, cars_dataset = label_datasets(planes_dataset, cars_dataset)\n",
        "\n",
        "    print(\"### Merging and balancing datasets ###\")\n",
        "    final_dataset = merge_and_balance_datasets(planes_dataset, cars_dataset)\n",
        "\n",
        "    print(\"### Applying data transformations ###\")\n",
        "    transform_train, transform_test = get_transforms()\n",
        "\n",
        "    print(\"### Creating DataLoaders ###\")\n",
        "    train_loader, test_loader = prepare_datasets(final_dataset, transform_train, transform_test)\n",
        "\n",
        "    print(\"### Initializing model ###\")\n",
        "    model = setup_model(device)\n",
        "    criterion, optimizer, scheduler = setup_training_components(model, train_loader)\n",
        "\n",
        "    print(\"### Training the model ###\")\n",
        "    trained_model = train_model(model, train_loader, test_loader, criterion, optimizer, scheduler, device, epochs=EPOCHS)\n",
        "\n",
        "    print(\"### validating the best model ###\")\n",
        "    validate_model(trained_model, test_loader, device)\n",
        "\n",
        "    print(\"### Uploading the trained model ###\")\n",
        "    upload_new_model_with_timestamp(trained_model, repo_id, model_filename, hf_token)\n",
        "\n",
        "if __name__ == \"__main__\":\n",
        "    main()"
      ]
    }
  ],
  "metadata": {
    "accelerator": "GPU",
    "colab": {
      "collapsed_sections": [
        "q9rC7Sen6zOW",
        "ymJ19CPxsjoa",
        "Nm_5Mj3AxacV",
        "JWGWi6uY_uWi",
        "vpRyZup6LWiu",
        "bVXEQsQ7Q1z6"
      ],
      "gpuType": "L4",
      "machine_shape": "hm",
      "provenance": [],
      "authorship_tag": "ABX9TyPnS1XMVgyWuGXKs55rkW7O",
      "include_colab_link": true
    },
    "kernelspec": {
      "display_name": "Python 3",
      "name": "python3"
    },
    "language_info": {
      "name": "python"
    },
    "widgets": {
      "application/vnd.jupyter.widget-state+json": {
        "825ea019058347fdb968a03c5b9817ef": {
          "model_module": "@jupyter-widgets/controls",
          "model_name": "HBoxModel",
          "model_module_version": "1.5.0",
          "state": {
            "_dom_classes": [],
            "_model_module": "@jupyter-widgets/controls",
            "_model_module_version": "1.5.0",
            "_model_name": "HBoxModel",
            "_view_count": null,
            "_view_module": "@jupyter-widgets/controls",
            "_view_module_version": "1.5.0",
            "_view_name": "HBoxView",
            "box_style": "",
            "children": [
              "IPY_MODEL_1141f3326cbd4d4eae755ce3d91d5424",
              "IPY_MODEL_86a2ed9b62b046d7840029f539ff657f",
              "IPY_MODEL_581b05a47d47494caad65a806d51602f"
            ],
            "layout": "IPY_MODEL_c15f727838f64b479b5066e85eee7e8c"
          }
        },
        "1141f3326cbd4d4eae755ce3d91d5424": {
          "model_module": "@jupyter-widgets/controls",
          "model_name": "HTMLModel",
          "model_module_version": "1.5.0",
          "state": {
            "_dom_classes": [],
            "_model_module": "@jupyter-widgets/controls",
            "_model_module_version": "1.5.0",
            "_model_name": "HTMLModel",
            "_view_count": null,
            "_view_module": "@jupyter-widgets/controls",
            "_view_module_version": "1.5.0",
            "_view_name": "HTMLView",
            "description": "",
            "description_tooltip": null,
            "layout": "IPY_MODEL_7a5c05e1c33c4b13851d05f71fcce654",
            "placeholder": "​",
            "style": "IPY_MODEL_6314c482f6654920a0d4eca88bcbea23",
            "value": "best_cars_vs_planes_model_20250206_190324.pth: 100%"
          }
        },
        "86a2ed9b62b046d7840029f539ff657f": {
          "model_module": "@jupyter-widgets/controls",
          "model_name": "FloatProgressModel",
          "model_module_version": "1.5.0",
          "state": {
            "_dom_classes": [],
            "_model_module": "@jupyter-widgets/controls",
            "_model_module_version": "1.5.0",
            "_model_name": "FloatProgressModel",
            "_view_count": null,
            "_view_module": "@jupyter-widgets/controls",
            "_view_module_version": "1.5.0",
            "_view_name": "ProgressView",
            "bar_style": "success",
            "description": "",
            "description_tooltip": null,
            "layout": "IPY_MODEL_a4836678f3dd495fb8e26ebb14ef52c8",
            "max": 49741774,
            "min": 0,
            "orientation": "horizontal",
            "style": "IPY_MODEL_803865c504e64bf4ba42b9b56b9a2967",
            "value": 49741774
          }
        },
        "581b05a47d47494caad65a806d51602f": {
          "model_module": "@jupyter-widgets/controls",
          "model_name": "HTMLModel",
          "model_module_version": "1.5.0",
          "state": {
            "_dom_classes": [],
            "_model_module": "@jupyter-widgets/controls",
            "_model_module_version": "1.5.0",
            "_model_name": "HTMLModel",
            "_view_count": null,
            "_view_module": "@jupyter-widgets/controls",
            "_view_module_version": "1.5.0",
            "_view_name": "HTMLView",
            "description": "",
            "description_tooltip": null,
            "layout": "IPY_MODEL_37a8a9df50964257b767ee0938567797",
            "placeholder": "​",
            "style": "IPY_MODEL_d58911b0533644969799c5d86d529497",
            "value": " 49.7M/49.7M [00:03&lt;00:00, 14.0MB/s]"
          }
        },
        "c15f727838f64b479b5066e85eee7e8c": {
          "model_module": "@jupyter-widgets/base",
          "model_name": "LayoutModel",
          "model_module_version": "1.2.0",
          "state": {
            "_model_module": "@jupyter-widgets/base",
            "_model_module_version": "1.2.0",
            "_model_name": "LayoutModel",
            "_view_count": null,
            "_view_module": "@jupyter-widgets/base",
            "_view_module_version": "1.2.0",
            "_view_name": "LayoutView",
            "align_content": null,
            "align_items": null,
            "align_self": null,
            "border": null,
            "bottom": null,
            "display": null,
            "flex": null,
            "flex_flow": null,
            "grid_area": null,
            "grid_auto_columns": null,
            "grid_auto_flow": null,
            "grid_auto_rows": null,
            "grid_column": null,
            "grid_gap": null,
            "grid_row": null,
            "grid_template_areas": null,
            "grid_template_columns": null,
            "grid_template_rows": null,
            "height": null,
            "justify_content": null,
            "justify_items": null,
            "left": null,
            "margin": null,
            "max_height": null,
            "max_width": null,
            "min_height": null,
            "min_width": null,
            "object_fit": null,
            "object_position": null,
            "order": null,
            "overflow": null,
            "overflow_x": null,
            "overflow_y": null,
            "padding": null,
            "right": null,
            "top": null,
            "visibility": null,
            "width": null
          }
        },
        "7a5c05e1c33c4b13851d05f71fcce654": {
          "model_module": "@jupyter-widgets/base",
          "model_name": "LayoutModel",
          "model_module_version": "1.2.0",
          "state": {
            "_model_module": "@jupyter-widgets/base",
            "_model_module_version": "1.2.0",
            "_model_name": "LayoutModel",
            "_view_count": null,
            "_view_module": "@jupyter-widgets/base",
            "_view_module_version": "1.2.0",
            "_view_name": "LayoutView",
            "align_content": null,
            "align_items": null,
            "align_self": null,
            "border": null,
            "bottom": null,
            "display": null,
            "flex": null,
            "flex_flow": null,
            "grid_area": null,
            "grid_auto_columns": null,
            "grid_auto_flow": null,
            "grid_auto_rows": null,
            "grid_column": null,
            "grid_gap": null,
            "grid_row": null,
            "grid_template_areas": null,
            "grid_template_columns": null,
            "grid_template_rows": null,
            "height": null,
            "justify_content": null,
            "justify_items": null,
            "left": null,
            "margin": null,
            "max_height": null,
            "max_width": null,
            "min_height": null,
            "min_width": null,
            "object_fit": null,
            "object_position": null,
            "order": null,
            "overflow": null,
            "overflow_x": null,
            "overflow_y": null,
            "padding": null,
            "right": null,
            "top": null,
            "visibility": null,
            "width": null
          }
        },
        "6314c482f6654920a0d4eca88bcbea23": {
          "model_module": "@jupyter-widgets/controls",
          "model_name": "DescriptionStyleModel",
          "model_module_version": "1.5.0",
          "state": {
            "_model_module": "@jupyter-widgets/controls",
            "_model_module_version": "1.5.0",
            "_model_name": "DescriptionStyleModel",
            "_view_count": null,
            "_view_module": "@jupyter-widgets/base",
            "_view_module_version": "1.2.0",
            "_view_name": "StyleView",
            "description_width": ""
          }
        },
        "a4836678f3dd495fb8e26ebb14ef52c8": {
          "model_module": "@jupyter-widgets/base",
          "model_name": "LayoutModel",
          "model_module_version": "1.2.0",
          "state": {
            "_model_module": "@jupyter-widgets/base",
            "_model_module_version": "1.2.0",
            "_model_name": "LayoutModel",
            "_view_count": null,
            "_view_module": "@jupyter-widgets/base",
            "_view_module_version": "1.2.0",
            "_view_name": "LayoutView",
            "align_content": null,
            "align_items": null,
            "align_self": null,
            "border": null,
            "bottom": null,
            "display": null,
            "flex": null,
            "flex_flow": null,
            "grid_area": null,
            "grid_auto_columns": null,
            "grid_auto_flow": null,
            "grid_auto_rows": null,
            "grid_column": null,
            "grid_gap": null,
            "grid_row": null,
            "grid_template_areas": null,
            "grid_template_columns": null,
            "grid_template_rows": null,
            "height": null,
            "justify_content": null,
            "justify_items": null,
            "left": null,
            "margin": null,
            "max_height": null,
            "max_width": null,
            "min_height": null,
            "min_width": null,
            "object_fit": null,
            "object_position": null,
            "order": null,
            "overflow": null,
            "overflow_x": null,
            "overflow_y": null,
            "padding": null,
            "right": null,
            "top": null,
            "visibility": null,
            "width": null
          }
        },
        "803865c504e64bf4ba42b9b56b9a2967": {
          "model_module": "@jupyter-widgets/controls",
          "model_name": "ProgressStyleModel",
          "model_module_version": "1.5.0",
          "state": {
            "_model_module": "@jupyter-widgets/controls",
            "_model_module_version": "1.5.0",
            "_model_name": "ProgressStyleModel",
            "_view_count": null,
            "_view_module": "@jupyter-widgets/base",
            "_view_module_version": "1.2.0",
            "_view_name": "StyleView",
            "bar_color": null,
            "description_width": ""
          }
        },
        "37a8a9df50964257b767ee0938567797": {
          "model_module": "@jupyter-widgets/base",
          "model_name": "LayoutModel",
          "model_module_version": "1.2.0",
          "state": {
            "_model_module": "@jupyter-widgets/base",
            "_model_module_version": "1.2.0",
            "_model_name": "LayoutModel",
            "_view_count": null,
            "_view_module": "@jupyter-widgets/base",
            "_view_module_version": "1.2.0",
            "_view_name": "LayoutView",
            "align_content": null,
            "align_items": null,
            "align_self": null,
            "border": null,
            "bottom": null,
            "display": null,
            "flex": null,
            "flex_flow": null,
            "grid_area": null,
            "grid_auto_columns": null,
            "grid_auto_flow": null,
            "grid_auto_rows": null,
            "grid_column": null,
            "grid_gap": null,
            "grid_row": null,
            "grid_template_areas": null,
            "grid_template_columns": null,
            "grid_template_rows": null,
            "height": null,
            "justify_content": null,
            "justify_items": null,
            "left": null,
            "margin": null,
            "max_height": null,
            "max_width": null,
            "min_height": null,
            "min_width": null,
            "object_fit": null,
            "object_position": null,
            "order": null,
            "overflow": null,
            "overflow_x": null,
            "overflow_y": null,
            "padding": null,
            "right": null,
            "top": null,
            "visibility": null,
            "width": null
          }
        },
        "d58911b0533644969799c5d86d529497": {
          "model_module": "@jupyter-widgets/controls",
          "model_name": "DescriptionStyleModel",
          "model_module_version": "1.5.0",
          "state": {
            "_model_module": "@jupyter-widgets/controls",
            "_model_module_version": "1.5.0",
            "_model_name": "DescriptionStyleModel",
            "_view_count": null,
            "_view_module": "@jupyter-widgets/base",
            "_view_module_version": "1.2.0",
            "_view_name": "StyleView",
            "description_width": ""
          }
        }
      }
    }
  },
  "nbformat": 4,
  "nbformat_minor": 0
}