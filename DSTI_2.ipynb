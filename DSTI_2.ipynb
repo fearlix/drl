{
  "nbformat": 4,
  "nbformat_minor": 0,
  "metadata": {
    "colab": {
      "provenance": [],
      "machine_shape": "hm",
      "collapsed_sections": [
        "q9rC7Sen6zOW",
        "ymJ19CPxsjoa",
        "Nm_5Mj3AxacV",
        "JWGWi6uY_uWi",
        "vpRyZup6LWiu",
        "bVXEQsQ7Q1z6"
      ],
      "gpuType": "L4",
      "authorship_tag": "ABX9TyN2pKFuqAsT0K0reAFJiynz",
      "include_colab_link": true
    },
    "kernelspec": {
      "name": "python3",
      "display_name": "Python 3"
    },
    "language_info": {
      "name": "python"
    },
    "accelerator": "GPU"
  },
  "cells": [
    {
      "cell_type": "markdown",
      "metadata": {
        "id": "view-in-github",
        "colab_type": "text"
      },
      "source": [
        "<a href=\"https://colab.research.google.com/github/fearlix/drl/blob/main/DSTI_2.ipynb\" target=\"_parent\"><img src=\"https://colab.research.google.com/assets/colab-badge.svg\" alt=\"Open In Colab\"/></a>"
      ]
    },
    {
      "cell_type": "markdown",
      "source": [
        "# **Deep Learning Model for Image Classification for planes**"
      ],
      "metadata": {
        "id": "ZvpXUret6sMp"
      }
    },
    {
      "cell_type": "markdown",
      "source": [
        "## **1. Imports & Setup**"
      ],
      "metadata": {
        "id": "q9rC7Sen6zOW"
      }
    },
    {
      "cell_type": "code",
      "source": [
        "!pip install datasets torchvision torch"
      ],
      "metadata": {
        "colab": {
          "base_uri": "https://localhost:8080/"
        },
        "id": "-N5IqAsS63eA",
        "outputId": "f6716efc-87cb-47ec-bc4d-67314083965c"
      },
      "execution_count": 2,
      "outputs": [
        {
          "output_type": "stream",
          "name": "stdout",
          "text": [
            "Collecting datasets\n",
            "  Downloading datasets-3.2.0-py3-none-any.whl.metadata (20 kB)\n",
            "Requirement already satisfied: torchvision in /usr/local/lib/python3.11/dist-packages (0.20.1+cu124)\n",
            "Requirement already satisfied: torch in /usr/local/lib/python3.11/dist-packages (2.5.1+cu124)\n",
            "Requirement already satisfied: filelock in /usr/local/lib/python3.11/dist-packages (from datasets) (3.17.0)\n",
            "Requirement already satisfied: numpy>=1.17 in /usr/local/lib/python3.11/dist-packages (from datasets) (1.26.4)\n",
            "Requirement already satisfied: pyarrow>=15.0.0 in /usr/local/lib/python3.11/dist-packages (from datasets) (17.0.0)\n",
            "Collecting dill<0.3.9,>=0.3.0 (from datasets)\n",
            "  Downloading dill-0.3.8-py3-none-any.whl.metadata (10 kB)\n",
            "Requirement already satisfied: pandas in /usr/local/lib/python3.11/dist-packages (from datasets) (2.2.2)\n",
            "Requirement already satisfied: requests>=2.32.2 in /usr/local/lib/python3.11/dist-packages (from datasets) (2.32.3)\n",
            "Requirement already satisfied: tqdm>=4.66.3 in /usr/local/lib/python3.11/dist-packages (from datasets) (4.67.1)\n",
            "Collecting xxhash (from datasets)\n",
            "  Downloading xxhash-3.5.0-cp311-cp311-manylinux_2_17_x86_64.manylinux2014_x86_64.whl.metadata (12 kB)\n",
            "Collecting multiprocess<0.70.17 (from datasets)\n",
            "  Downloading multiprocess-0.70.16-py311-none-any.whl.metadata (7.2 kB)\n",
            "Collecting fsspec<=2024.9.0,>=2023.1.0 (from fsspec[http]<=2024.9.0,>=2023.1.0->datasets)\n",
            "  Downloading fsspec-2024.9.0-py3-none-any.whl.metadata (11 kB)\n",
            "Requirement already satisfied: aiohttp in /usr/local/lib/python3.11/dist-packages (from datasets) (3.11.11)\n",
            "Requirement already satisfied: huggingface-hub>=0.23.0 in /usr/local/lib/python3.11/dist-packages (from datasets) (0.27.1)\n",
            "Requirement already satisfied: packaging in /usr/local/lib/python3.11/dist-packages (from datasets) (24.2)\n",
            "Requirement already satisfied: pyyaml>=5.1 in /usr/local/lib/python3.11/dist-packages (from datasets) (6.0.2)\n",
            "Requirement already satisfied: pillow!=8.3.*,>=5.3.0 in /usr/local/lib/python3.11/dist-packages (from torchvision) (11.1.0)\n",
            "Requirement already satisfied: typing-extensions>=4.8.0 in /usr/local/lib/python3.11/dist-packages (from torch) (4.12.2)\n",
            "Requirement already satisfied: networkx in /usr/local/lib/python3.11/dist-packages (from torch) (3.4.2)\n",
            "Requirement already satisfied: jinja2 in /usr/local/lib/python3.11/dist-packages (from torch) (3.1.5)\n",
            "Collecting nvidia-cuda-nvrtc-cu12==12.4.127 (from torch)\n",
            "  Downloading nvidia_cuda_nvrtc_cu12-12.4.127-py3-none-manylinux2014_x86_64.whl.metadata (1.5 kB)\n",
            "Collecting nvidia-cuda-runtime-cu12==12.4.127 (from torch)\n",
            "  Downloading nvidia_cuda_runtime_cu12-12.4.127-py3-none-manylinux2014_x86_64.whl.metadata (1.5 kB)\n",
            "Collecting nvidia-cuda-cupti-cu12==12.4.127 (from torch)\n",
            "  Downloading nvidia_cuda_cupti_cu12-12.4.127-py3-none-manylinux2014_x86_64.whl.metadata (1.6 kB)\n",
            "Collecting nvidia-cudnn-cu12==9.1.0.70 (from torch)\n",
            "  Downloading nvidia_cudnn_cu12-9.1.0.70-py3-none-manylinux2014_x86_64.whl.metadata (1.6 kB)\n",
            "Collecting nvidia-cublas-cu12==12.4.5.8 (from torch)\n",
            "  Downloading nvidia_cublas_cu12-12.4.5.8-py3-none-manylinux2014_x86_64.whl.metadata (1.5 kB)\n",
            "Collecting nvidia-cufft-cu12==11.2.1.3 (from torch)\n",
            "  Downloading nvidia_cufft_cu12-11.2.1.3-py3-none-manylinux2014_x86_64.whl.metadata (1.5 kB)\n",
            "Collecting nvidia-curand-cu12==10.3.5.147 (from torch)\n",
            "  Downloading nvidia_curand_cu12-10.3.5.147-py3-none-manylinux2014_x86_64.whl.metadata (1.5 kB)\n",
            "Collecting nvidia-cusolver-cu12==11.6.1.9 (from torch)\n",
            "  Downloading nvidia_cusolver_cu12-11.6.1.9-py3-none-manylinux2014_x86_64.whl.metadata (1.6 kB)\n",
            "Collecting nvidia-cusparse-cu12==12.3.1.170 (from torch)\n",
            "  Downloading nvidia_cusparse_cu12-12.3.1.170-py3-none-manylinux2014_x86_64.whl.metadata (1.6 kB)\n",
            "Requirement already satisfied: nvidia-nccl-cu12==2.21.5 in /usr/local/lib/python3.11/dist-packages (from torch) (2.21.5)\n",
            "Requirement already satisfied: nvidia-nvtx-cu12==12.4.127 in /usr/local/lib/python3.11/dist-packages (from torch) (12.4.127)\n",
            "Collecting nvidia-nvjitlink-cu12==12.4.127 (from torch)\n",
            "  Downloading nvidia_nvjitlink_cu12-12.4.127-py3-none-manylinux2014_x86_64.whl.metadata (1.5 kB)\n",
            "Requirement already satisfied: triton==3.1.0 in /usr/local/lib/python3.11/dist-packages (from torch) (3.1.0)\n",
            "Requirement already satisfied: sympy==1.13.1 in /usr/local/lib/python3.11/dist-packages (from torch) (1.13.1)\n",
            "Requirement already satisfied: mpmath<1.4,>=1.1.0 in /usr/local/lib/python3.11/dist-packages (from sympy==1.13.1->torch) (1.3.0)\n",
            "Requirement already satisfied: aiohappyeyeballs>=2.3.0 in /usr/local/lib/python3.11/dist-packages (from aiohttp->datasets) (2.4.4)\n",
            "Requirement already satisfied: aiosignal>=1.1.2 in /usr/local/lib/python3.11/dist-packages (from aiohttp->datasets) (1.3.2)\n",
            "Requirement already satisfied: attrs>=17.3.0 in /usr/local/lib/python3.11/dist-packages (from aiohttp->datasets) (25.1.0)\n",
            "Requirement already satisfied: frozenlist>=1.1.1 in /usr/local/lib/python3.11/dist-packages (from aiohttp->datasets) (1.5.0)\n",
            "Requirement already satisfied: multidict<7.0,>=4.5 in /usr/local/lib/python3.11/dist-packages (from aiohttp->datasets) (6.1.0)\n",
            "Requirement already satisfied: propcache>=0.2.0 in /usr/local/lib/python3.11/dist-packages (from aiohttp->datasets) (0.2.1)\n",
            "Requirement already satisfied: yarl<2.0,>=1.17.0 in /usr/local/lib/python3.11/dist-packages (from aiohttp->datasets) (1.18.3)\n",
            "Requirement already satisfied: charset-normalizer<4,>=2 in /usr/local/lib/python3.11/dist-packages (from requests>=2.32.2->datasets) (3.4.1)\n",
            "Requirement already satisfied: idna<4,>=2.5 in /usr/local/lib/python3.11/dist-packages (from requests>=2.32.2->datasets) (3.10)\n",
            "Requirement already satisfied: urllib3<3,>=1.21.1 in /usr/local/lib/python3.11/dist-packages (from requests>=2.32.2->datasets) (2.3.0)\n",
            "Requirement already satisfied: certifi>=2017.4.17 in /usr/local/lib/python3.11/dist-packages (from requests>=2.32.2->datasets) (2024.12.14)\n",
            "Requirement already satisfied: MarkupSafe>=2.0 in /usr/local/lib/python3.11/dist-packages (from jinja2->torch) (3.0.2)\n",
            "Requirement already satisfied: python-dateutil>=2.8.2 in /usr/local/lib/python3.11/dist-packages (from pandas->datasets) (2.8.2)\n",
            "Requirement already satisfied: pytz>=2020.1 in /usr/local/lib/python3.11/dist-packages (from pandas->datasets) (2024.2)\n",
            "Requirement already satisfied: tzdata>=2022.7 in /usr/local/lib/python3.11/dist-packages (from pandas->datasets) (2025.1)\n",
            "Requirement already satisfied: six>=1.5 in /usr/local/lib/python3.11/dist-packages (from python-dateutil>=2.8.2->pandas->datasets) (1.17.0)\n",
            "Downloading datasets-3.2.0-py3-none-any.whl (480 kB)\n",
            "\u001b[2K   \u001b[90m━━━━━━━━━━━━━━━━━━━━━━━━━━━━━━━━━━━━━━━━\u001b[0m \u001b[32m480.6/480.6 kB\u001b[0m \u001b[31m36.6 MB/s\u001b[0m eta \u001b[36m0:00:00\u001b[0m\n",
            "\u001b[?25hDownloading nvidia_cublas_cu12-12.4.5.8-py3-none-manylinux2014_x86_64.whl (363.4 MB)\n",
            "\u001b[2K   \u001b[90m━━━━━━━━━━━━━━━━━━━━━━━━━━━━━━━━━━━━━━━━\u001b[0m \u001b[32m363.4/363.4 MB\u001b[0m \u001b[31m3.0 MB/s\u001b[0m eta \u001b[36m0:00:00\u001b[0m\n",
            "\u001b[?25hDownloading nvidia_cuda_cupti_cu12-12.4.127-py3-none-manylinux2014_x86_64.whl (13.8 MB)\n",
            "\u001b[2K   \u001b[90m━━━━━━━━━━━━━━━━━━━━━━━━━━━━━━━━━━━━━━━━\u001b[0m \u001b[32m13.8/13.8 MB\u001b[0m \u001b[31m111.8 MB/s\u001b[0m eta \u001b[36m0:00:00\u001b[0m\n",
            "\u001b[?25hDownloading nvidia_cuda_nvrtc_cu12-12.4.127-py3-none-manylinux2014_x86_64.whl (24.6 MB)\n",
            "\u001b[2K   \u001b[90m━━━━━━━━━━━━━━━━━━━━━━━━━━━━━━━━━━━━━━━━\u001b[0m \u001b[32m24.6/24.6 MB\u001b[0m \u001b[31m83.9 MB/s\u001b[0m eta \u001b[36m0:00:00\u001b[0m\n",
            "\u001b[?25hDownloading nvidia_cuda_runtime_cu12-12.4.127-py3-none-manylinux2014_x86_64.whl (883 kB)\n",
            "\u001b[2K   \u001b[90m━━━━━━━━━━━━━━━━━━━━━━━━━━━━━━━━━━━━━━━━\u001b[0m \u001b[32m883.7/883.7 kB\u001b[0m \u001b[31m54.9 MB/s\u001b[0m eta \u001b[36m0:00:00\u001b[0m\n",
            "\u001b[?25hDownloading nvidia_cudnn_cu12-9.1.0.70-py3-none-manylinux2014_x86_64.whl (664.8 MB)\n",
            "\u001b[2K   \u001b[90m━━━━━━━━━━━━━━━━━━━━━━━━━━━━━━━━━━━━━━━━\u001b[0m \u001b[32m664.8/664.8 MB\u001b[0m \u001b[31m2.0 MB/s\u001b[0m eta \u001b[36m0:00:00\u001b[0m\n",
            "\u001b[?25hDownloading nvidia_cufft_cu12-11.2.1.3-py3-none-manylinux2014_x86_64.whl (211.5 MB)\n",
            "\u001b[2K   \u001b[90m━━━━━━━━━━━━━━━━━━━━━━━━━━━━━━━━━━━━━━━━\u001b[0m \u001b[32m211.5/211.5 MB\u001b[0m \u001b[31m4.6 MB/s\u001b[0m eta \u001b[36m0:00:00\u001b[0m\n",
            "\u001b[?25hDownloading nvidia_curand_cu12-10.3.5.147-py3-none-manylinux2014_x86_64.whl (56.3 MB)\n",
            "\u001b[2K   \u001b[90m━━━━━━━━━━━━━━━━━━━━━━━━━━━━━━━━━━━━━━━━\u001b[0m \u001b[32m56.3/56.3 MB\u001b[0m \u001b[31m41.5 MB/s\u001b[0m eta \u001b[36m0:00:00\u001b[0m\n",
            "\u001b[?25hDownloading nvidia_cusolver_cu12-11.6.1.9-py3-none-manylinux2014_x86_64.whl (127.9 MB)\n",
            "\u001b[2K   \u001b[90m━━━━━━━━━━━━━━━━━━━━━━━━━━━━━━━━━━━━━━━━\u001b[0m \u001b[32m127.9/127.9 MB\u001b[0m \u001b[31m18.9 MB/s\u001b[0m eta \u001b[36m0:00:00\u001b[0m\n",
            "\u001b[?25hDownloading nvidia_cusparse_cu12-12.3.1.170-py3-none-manylinux2014_x86_64.whl (207.5 MB)\n",
            "\u001b[2K   \u001b[90m━━━━━━━━━━━━━━━━━━━━━━━━━━━━━━━━━━━━━━━━\u001b[0m \u001b[32m207.5/207.5 MB\u001b[0m \u001b[31m4.9 MB/s\u001b[0m eta \u001b[36m0:00:00\u001b[0m\n",
            "\u001b[?25hDownloading nvidia_nvjitlink_cu12-12.4.127-py3-none-manylinux2014_x86_64.whl (21.1 MB)\n",
            "\u001b[2K   \u001b[90m━━━━━━━━━━━━━━━━━━━━━━━━━━━━━━━━━━━━━━━━\u001b[0m \u001b[32m21.1/21.1 MB\u001b[0m \u001b[31m86.2 MB/s\u001b[0m eta \u001b[36m0:00:00\u001b[0m\n",
            "\u001b[?25hDownloading dill-0.3.8-py3-none-any.whl (116 kB)\n",
            "\u001b[2K   \u001b[90m━━━━━━━━━━━━━━━━━━━━━━━━━━━━━━━━━━━━━━━━\u001b[0m \u001b[32m116.3/116.3 kB\u001b[0m \u001b[31m10.1 MB/s\u001b[0m eta \u001b[36m0:00:00\u001b[0m\n",
            "\u001b[?25hDownloading fsspec-2024.9.0-py3-none-any.whl (179 kB)\n",
            "\u001b[2K   \u001b[90m━━━━━━━━━━━━━━━━━━━━━━━━━━━━━━━━━━━━━━━━\u001b[0m \u001b[32m179.3/179.3 kB\u001b[0m \u001b[31m14.9 MB/s\u001b[0m eta \u001b[36m0:00:00\u001b[0m\n",
            "\u001b[?25hDownloading multiprocess-0.70.16-py311-none-any.whl (143 kB)\n",
            "\u001b[2K   \u001b[90m━━━━━━━━━━━━━━━━━━━━━━━━━━━━━━━━━━━━━━━━\u001b[0m \u001b[32m143.5/143.5 kB\u001b[0m \u001b[31m12.9 MB/s\u001b[0m eta \u001b[36m0:00:00\u001b[0m\n",
            "\u001b[?25hDownloading xxhash-3.5.0-cp311-cp311-manylinux_2_17_x86_64.manylinux2014_x86_64.whl (194 kB)\n",
            "\u001b[2K   \u001b[90m━━━━━━━━━━━━━━━━━━━━━━━━━━━━━━━━━━━━━━━━\u001b[0m \u001b[32m194.8/194.8 kB\u001b[0m \u001b[31m17.2 MB/s\u001b[0m eta \u001b[36m0:00:00\u001b[0m\n",
            "\u001b[?25hInstalling collected packages: xxhash, nvidia-nvjitlink-cu12, nvidia-curand-cu12, nvidia-cufft-cu12, nvidia-cuda-runtime-cu12, nvidia-cuda-nvrtc-cu12, nvidia-cuda-cupti-cu12, nvidia-cublas-cu12, fsspec, dill, nvidia-cusparse-cu12, nvidia-cudnn-cu12, multiprocess, nvidia-cusolver-cu12, datasets\n",
            "  Attempting uninstall: nvidia-nvjitlink-cu12\n",
            "    Found existing installation: nvidia-nvjitlink-cu12 12.5.82\n",
            "    Uninstalling nvidia-nvjitlink-cu12-12.5.82:\n",
            "      Successfully uninstalled nvidia-nvjitlink-cu12-12.5.82\n",
            "  Attempting uninstall: nvidia-curand-cu12\n",
            "    Found existing installation: nvidia-curand-cu12 10.3.6.82\n",
            "    Uninstalling nvidia-curand-cu12-10.3.6.82:\n",
            "      Successfully uninstalled nvidia-curand-cu12-10.3.6.82\n",
            "  Attempting uninstall: nvidia-cufft-cu12\n",
            "    Found existing installation: nvidia-cufft-cu12 11.2.3.61\n",
            "    Uninstalling nvidia-cufft-cu12-11.2.3.61:\n",
            "      Successfully uninstalled nvidia-cufft-cu12-11.2.3.61\n",
            "  Attempting uninstall: nvidia-cuda-runtime-cu12\n",
            "    Found existing installation: nvidia-cuda-runtime-cu12 12.5.82\n",
            "    Uninstalling nvidia-cuda-runtime-cu12-12.5.82:\n",
            "      Successfully uninstalled nvidia-cuda-runtime-cu12-12.5.82\n",
            "  Attempting uninstall: nvidia-cuda-nvrtc-cu12\n",
            "    Found existing installation: nvidia-cuda-nvrtc-cu12 12.5.82\n",
            "    Uninstalling nvidia-cuda-nvrtc-cu12-12.5.82:\n",
            "      Successfully uninstalled nvidia-cuda-nvrtc-cu12-12.5.82\n",
            "  Attempting uninstall: nvidia-cuda-cupti-cu12\n",
            "    Found existing installation: nvidia-cuda-cupti-cu12 12.5.82\n",
            "    Uninstalling nvidia-cuda-cupti-cu12-12.5.82:\n",
            "      Successfully uninstalled nvidia-cuda-cupti-cu12-12.5.82\n",
            "  Attempting uninstall: nvidia-cublas-cu12\n",
            "    Found existing installation: nvidia-cublas-cu12 12.5.3.2\n",
            "    Uninstalling nvidia-cublas-cu12-12.5.3.2:\n",
            "      Successfully uninstalled nvidia-cublas-cu12-12.5.3.2\n",
            "  Attempting uninstall: fsspec\n",
            "    Found existing installation: fsspec 2024.10.0\n",
            "    Uninstalling fsspec-2024.10.0:\n",
            "      Successfully uninstalled fsspec-2024.10.0\n",
            "  Attempting uninstall: nvidia-cusparse-cu12\n",
            "    Found existing installation: nvidia-cusparse-cu12 12.5.1.3\n",
            "    Uninstalling nvidia-cusparse-cu12-12.5.1.3:\n",
            "      Successfully uninstalled nvidia-cusparse-cu12-12.5.1.3\n",
            "  Attempting uninstall: nvidia-cudnn-cu12\n",
            "    Found existing installation: nvidia-cudnn-cu12 9.3.0.75\n",
            "    Uninstalling nvidia-cudnn-cu12-9.3.0.75:\n",
            "      Successfully uninstalled nvidia-cudnn-cu12-9.3.0.75\n",
            "  Attempting uninstall: nvidia-cusolver-cu12\n",
            "    Found existing installation: nvidia-cusolver-cu12 11.6.3.83\n",
            "    Uninstalling nvidia-cusolver-cu12-11.6.3.83:\n",
            "      Successfully uninstalled nvidia-cusolver-cu12-11.6.3.83\n",
            "\u001b[31mERROR: pip's dependency resolver does not currently take into account all the packages that are installed. This behaviour is the source of the following dependency conflicts.\n",
            "gcsfs 2024.10.0 requires fsspec==2024.10.0, but you have fsspec 2024.9.0 which is incompatible.\u001b[0m\u001b[31m\n",
            "\u001b[0mSuccessfully installed datasets-3.2.0 dill-0.3.8 fsspec-2024.9.0 multiprocess-0.70.16 nvidia-cublas-cu12-12.4.5.8 nvidia-cuda-cupti-cu12-12.4.127 nvidia-cuda-nvrtc-cu12-12.4.127 nvidia-cuda-runtime-cu12-12.4.127 nvidia-cudnn-cu12-9.1.0.70 nvidia-cufft-cu12-11.2.1.3 nvidia-curand-cu12-10.3.5.147 nvidia-cusolver-cu12-11.6.1.9 nvidia-cusparse-cu12-12.3.1.170 nvidia-nvjitlink-cu12-12.4.127 xxhash-3.5.0\n"
          ]
        }
      ]
    },
    {
      "cell_type": "code",
      "source": [
        "from datasets import load_dataset, concatenate_datasets, DatasetDict\n",
        "from huggingface_hub import (\n",
        "    HfApi, login, whoami, create_repo, upload_file,\n",
        "    list_repo_files, hf_hub_download\n",
        ")\n",
        "\n",
        "import torch\n",
        "import torch.nn as nn\n",
        "import torch.optim as optim\n",
        "import torch.nn.functional as F\n",
        "from torch.utils.data import Dataset, DataLoader\n",
        "from torch.optim.lr_scheduler import CosineAnnealingLR\n",
        "\n",
        "import torchvision.models as models\n",
        "from torchvision import transforms\n",
        "from PIL import Image\n",
        "\n",
        "import pandas as pd\n",
        "import numpy as np\n",
        "import os\n",
        "\n",
        "import matplotlib.pyplot as plt\n",
        "import seaborn as sns\n",
        "\n",
        "from sklearn.model_selection import train_test_split\n",
        "from sklearn.utils.class_weight import compute_class_weight\n",
        "from sklearn.metrics import (\n",
        "    confusion_matrix, classification_report, precision_score,\n",
        "    recall_score, f1_score, roc_auc_score\n",
        ")\n",
        "\n",
        "from google.colab import userdata, files\n",
        "\n",
        "import random\n",
        "import time\n",
        "from tqdm import tqdm"
      ],
      "metadata": {
        "id": "M14wgIZB66ki"
      },
      "execution_count": 66,
      "outputs": []
    },
    {
      "cell_type": "markdown",
      "source": [
        "## **2. Data Loading & Labeling**"
      ],
      "metadata": {
        "id": "ymJ19CPxsjoa"
      }
    },
    {
      "cell_type": "markdown",
      "source": [
        "This function loads two datasets from Hugging Face: one for planes and one for cars. It prints both datasets to check if they were loaded correctly and then returns them for further use."
      ],
      "metadata": {
        "id": "zOMPD-ka80PA"
      }
    },
    {
      "cell_type": "code",
      "source": [
        "def load_datasets():\n",
        "    \"\"\"Loads the datasets from Hugging Face.\"\"\"\n",
        "    planes_dataset = load_dataset(\"fearlixg/planes_splitted\")\n",
        "    cars_dataset = load_dataset(\"fearlixg/cars_splitted\")\n",
        "    return planes_dataset, cars_dataset"
      ],
      "metadata": {
        "id": "TpDoBF7245ZP"
      },
      "execution_count": 4,
      "outputs": []
    },
    {
      "cell_type": "markdown",
      "source": [
        "This function adds labels to the datasets: **1 for planes** and **0 for cars**. It does this by applying a small helper function that adds a label field to each example. Then, it updates both the training and test sets of each dataset with the correct labels. Finally, it returns the updated datasets."
      ],
      "metadata": {
        "id": "ppXSH9Wo83-4"
      }
    },
    {
      "cell_type": "code",
      "source": [
        "def label_datasets(planes_dataset, cars_dataset):\n",
        "    \"\"\"Assigns labels: Planes (1), Cars (0).\"\"\"\n",
        "    def add_label(example, label):\n",
        "        example[\"label\"] = label\n",
        "        return example\n",
        "\n",
        "    for dataset in [planes_dataset, cars_dataset]:\n",
        "        label = 1 if dataset == planes_dataset else 0\n",
        "        dataset[\"train\"] = dataset[\"train\"].map(lambda x: add_label(x, label))\n",
        "        dataset[\"test\"] = dataset[\"test\"].map(lambda x: add_label(x, label))\n",
        "\n",
        "    return planes_dataset, cars_dataset"
      ],
      "metadata": {
        "id": "FoNMAxwk85dV"
      },
      "execution_count": 5,
      "outputs": []
    },
    {
      "cell_type": "markdown",
      "source": [
        "## **3. Merge & Balance the Dataset**"
      ],
      "metadata": {
        "id": "Nm_5Mj3AxacV"
      }
    },
    {
      "cell_type": "markdown",
      "source": [
        "This function merges two datasets, one for planes and one for cars, and balances them by oversampling the smaller class. It first extracts the training and test sets from both datasets and checks the number of samples in each class. If one class has fewer samples, it generates additional images using data augmentation techniques such as random cropping, flipping, rotation, and color adjustments. The function then combines the original and augmented samples to create a balanced training set while merging the test sets without any modifications."
      ],
      "metadata": {
        "id": "1RnMXCLMiTIY"
      }
    },
    {
      "cell_type": "code",
      "source": [
        "def merge_and_balance_datasets(planes_dataset, cars_dataset):\n",
        "    \"\"\"Merges and balances datasets by augmenting and oversampling the minority class.\"\"\"\n",
        "\n",
        "    # Extract train/test splits\n",
        "    train_planes, test_planes = planes_dataset[\"train\"], planes_dataset[\"test\"]\n",
        "    train_cars, test_cars = cars_dataset[\"train\"], cars_dataset[\"test\"]\n",
        "\n",
        "    num_planes = len(train_planes)\n",
        "    num_cars = len(train_cars)\n",
        "\n",
        "    print(f\"Before balancing: {num_planes} planes, {num_cars} cars\")\n",
        "\n",
        "    # Define the augmentation pipeline (moved inside this function)\n",
        "    def augment_example(example):\n",
        "        \"\"\"Applies random augmentations to oversampled images to prevent overfitting.\"\"\"\n",
        "        augmentation = transforms.Compose([\n",
        "            transforms.RandomResizedCrop(224, scale=(0.8, 1.0)),\n",
        "            transforms.RandomHorizontalFlip(p=0.5),\n",
        "            transforms.RandomRotation(degrees=30),\n",
        "            transforms.ColorJitter(brightness=0.2, contrast=0.2, saturation=0.2),  # Adjust color\n",
        "        ])\n",
        "\n",
        "        image = example[\"image\"]\n",
        "        if not isinstance(image, Image.Image):\n",
        "            image = Image.fromarray(image)\n",
        "\n",
        "        example[\"image\"] = augmentation(image)\n",
        "        return example\n",
        "\n",
        "    # Oversample minority class using augmentation\n",
        "    if num_planes > num_cars:\n",
        "        additional_cars = train_cars.shuffle(seed=42).map(augment_example).select(range(num_planes - num_cars))\n",
        "        balanced_train_dataset = concatenate_datasets([train_planes, train_cars, additional_cars])\n",
        "    elif num_cars > num_planes:\n",
        "        additional_planes = train_planes.shuffle(seed=42).map(augment_example).select(range(num_cars - num_planes))\n",
        "        balanced_train_dataset = concatenate_datasets([train_planes, train_cars, additional_planes])\n",
        "    else:\n",
        "        balanced_train_dataset = concatenate_datasets([train_planes, train_cars])\n",
        "\n",
        "    balanced_test_dataset = concatenate_datasets([test_planes, test_cars])\n",
        "\n",
        "    print(f\"After balancing: {len(balanced_train_dataset)} total training samples\")\n",
        "\n",
        "    return DatasetDict({\"train\": balanced_train_dataset, \"test\": balanced_test_dataset})\n"
      ],
      "metadata": {
        "id": "jDJJbOwY9thg"
      },
      "execution_count": 31,
      "outputs": []
    },
    {
      "cell_type": "markdown",
      "source": [
        "## **4.  Data Augmentation & Transformations**"
      ],
      "metadata": {
        "id": "VVXF-Q7ZygIp"
      }
    },
    {
      "cell_type": "markdown",
      "source": [
        "This function returns two transformer pipelines, one for training and one for testing, to preprocess images before they are fed into a model.\n",
        "\n",
        "The training transformer e.g. applies resizing to 224x224 pixels using bicubic interpolation, ensures images are in RGB format, and randomly crops and resizes images within a scale range to introduce variety.\n",
        "\n",
        "The test transformation follows a simpler approach by resizing the image to 224x224 pixels, converting it to RGB, applying tensor conversion, and normalizing it in the same way as the training transformation.\n"
      ],
      "metadata": {
        "id": "QLKS9pDWicQ9"
      }
    },
    {
      "cell_type": "code",
      "source": [
        "def get_transforms():\n",
        "    \"\"\"Returns train and test transformations with optimized simplicity.\"\"\"\n",
        "    transform_train = transforms.Compose([\n",
        "        transforms.Resize((224, 224), interpolation=transforms.InterpolationMode.BICUBIC),\n",
        "        transforms.Lambda(lambda img: img.convert(\"RGB\")),  # Convert grayscale images to RGB\n",
        "        transforms.RandomResizedCrop(224, scale=(0.6, 1.0)),\n",
        "        transforms.RandomHorizontalFlip(p=0.5),\n",
        "        transforms.AutoAugment(transforms.AutoAugmentPolicy.IMAGENET),\n",
        "        transforms.ToTensor(),\n",
        "        transforms.RandomErasing(p=0.2, scale=(0.02, 0.4), ratio=(0.2, 3.0)),\n",
        "        transforms.Normalize((0.5, 0.5, 0.5), (0.5, 0.5, 0.5))\n",
        "    ])\n",
        "\n",
        "    transform_test = transforms.Compose([\n",
        "        transforms.Resize((224, 224), interpolation=transforms.InterpolationMode.BICUBIC),\n",
        "        transforms.Lambda(lambda img: img.convert(\"RGB\")),  # Ensure test images are also RGB\n",
        "        transforms.ToTensor(),\n",
        "        transforms.Normalize((0.5, 0.5, 0.5), (0.5, 0.5, 0.5))\n",
        "    ])\n",
        "\n",
        "    return transform_train, transform_test\n"
      ],
      "metadata": {
        "id": "g83NPA6w-2i2"
      },
      "execution_count": 71,
      "outputs": []
    },
    {
      "cell_type": "markdown",
      "source": [
        "## **5.  Create DataLoaders**"
      ],
      "metadata": {
        "id": "JWGWi6uY_uWi"
      }
    },
    {
      "cell_type": "markdown",
      "source": [
        "This class creates a custom dataset for Hugging Face images so they can be used in PyTorch. Additionally the function creates DataLoaders for training and testing by applying the specified transformations that were created beforehand to the dataset.\n"
      ],
      "metadata": {
        "id": "2WWkCpyBijKZ"
      }
    },
    {
      "cell_type": "code",
      "source": [
        "class HuggingFaceImageDataset(Dataset):\n",
        "    \"\"\"Custom dataset class for Hugging Face datasets.\"\"\"\n",
        "    def __init__(self, hf_dataset, transform=None):\n",
        "        self.dataset = hf_dataset\n",
        "        self.transform = transform\n",
        "\n",
        "    def __len__(self):\n",
        "        return len(self.dataset)\n",
        "\n",
        "    def __getitem__(self, idx):\n",
        "        item = self.dataset[idx]\n",
        "        image = item[\"image\"]\n",
        "\n",
        "        if not hasattr(image, \"convert\"):\n",
        "            image = Image.fromarray(image)\n",
        "\n",
        "        if self.transform:\n",
        "            image = self.transform(image)\n",
        "\n",
        "        return image, item[\"label\"]"
      ],
      "metadata": {
        "id": "Ie0WIOWi_s0H"
      },
      "execution_count": 8,
      "outputs": []
    },
    {
      "cell_type": "code",
      "source": [
        "def prepare_datasets(final_dataset, transform_train, transform_test):\n",
        "    \"\"\"Creates DataLoaders for training and testing.\"\"\"\n",
        "    train_data = HuggingFaceImageDataset(final_dataset[\"train\"], transform=transform_train)\n",
        "    test_data = HuggingFaceImageDataset(final_dataset[\"test\"], transform=transform_test)\n",
        "\n",
        "    train_loader = DataLoader(train_data, batch_size=32, shuffle=True)\n",
        "    test_loader = DataLoader(test_data, batch_size=32, shuffle=False)\n",
        "\n",
        "    return train_loader, test_loader"
      ],
      "metadata": {
        "id": "N5liSZD3YqO1"
      },
      "execution_count": 9,
      "outputs": []
    },
    {
      "cell_type": "markdown",
      "source": [
        "## **6.  Define model functions**"
      ],
      "metadata": {
        "id": "VWV8AWz6ArHo"
      }
    },
    {
      "cell_type": "markdown",
      "source": [
        "The setup_device function checks if a GPU is available and returns the appropriate device, either CUDA or CPU.\n",
        "\n",
        "The ConvNN class defines a convolutional neural network designed for binary classification between planes and cars. It consists of multiple convolutional layers with ReLU activations, max pooling, and batch normalization to extract features from images. The network includes an adaptive average pooling layer followed by fully connected layers with dropout and LeakyReLU activations to improve generalization.\n",
        "\n",
        "The setup_model function initializes this network and moves it to the selected device. The setup_training_components function sets up the loss function with label smoothing, the Adam optimizer with weight decay, and a learning rate scheduler that reduces the learning rate when performance plateaus. The mixup_criterion function implements a loss calculation method for mixup augmentation by interpolating labels for better model generalization.\n",
        "\n",
        "Additionally plot functions were created.\n"
      ],
      "metadata": {
        "id": "odNAMw1oisDY"
      }
    },
    {
      "cell_type": "code",
      "source": [
        "def setup_device():\n",
        "    \"\"\"Returns the available device (GPU or CPU).\"\"\"\n",
        "    return torch.device(\"cuda\" if torch.cuda.is_available() else \"cpu\")"
      ],
      "metadata": {
        "id": "NSS4d31FVqcZ"
      },
      "execution_count": 10,
      "outputs": []
    },
    {
      "cell_type": "code",
      "source": [
        "class ConvNN(nn.Module):\n",
        "    \"\"\"Custom Convolutional Neural Network for binary classification (plane vs. car).\"\"\"\n",
        "\n",
        "    def __init__(self, num_classes: int = 2):\n",
        "        super(ConvNN, self).__init__()\n",
        "\n",
        "        self.features = nn.Sequential(\n",
        "            nn.Conv2d(3, 64, kernel_size=11, stride=4, padding=2),\n",
        "            nn.ReLU(inplace=True),\n",
        "            nn.MaxPool2d(kernel_size=3, stride=2),\n",
        "            nn.Conv2d(64, 192, kernel_size=5, padding=2),\n",
        "            nn.ReLU(inplace=True),\n",
        "            nn.MaxPool2d(kernel_size=3, stride=2),\n",
        "            nn.Conv2d(192, 384, kernel_size=3, padding=1),\n",
        "            nn.ReLU(inplace=True),\n",
        "            nn.Conv2d(384, 256, kernel_size=3, padding=1),\n",
        "            nn.ReLU(inplace=True),\n",
        "            nn.Conv2d(256, 256, kernel_size=3, padding=1),\n",
        "            nn.ReLU(inplace=True),\n",
        "            nn.MaxPool2d(kernel_size=3, stride=2),\n",
        "        )\n",
        "\n",
        "        self.avgpool = nn.AdaptiveAvgPool2d((6, 6))\n",
        "\n",
        "        self.classifier = nn.Sequential(\n",
        "            nn.Dropout(p=0.5),\n",
        "            nn.Linear(256 * 6 * 6, 2048),\n",
        "            nn.BatchNorm1d(2048),\n",
        "            nn.LeakyReLU(inplace=True),\n",
        "            nn.Dropout(p=0.5),\n",
        "            nn.Linear(2048, 1024),\n",
        "            nn.BatchNorm1d(1024),\n",
        "            nn.LeakyReLU(inplace=True),\n",
        "            nn.Linear(1024, num_classes),  # Final layer\n",
        "        )\n",
        "\n",
        "\n",
        "    def forward(self, x):\n",
        "        x = self.features(x)\n",
        "        x = self.avgpool(x)\n",
        "        x = torch.flatten(x, 1)\n",
        "        x = self.classifier(x)\n",
        "        return x\n",
        "\n",
        "def setup_model(device):\n",
        "    \"\"\"Initializes and moves the ConvNN model to the specified device.\"\"\"\n",
        "    model = ConvNN(num_classes=2)  # Set 2 output classes (plane vs. car)\n",
        "    return model.to(device)\n",
        "\n",
        "def setup_training_components(model, train_loader):\n",
        "    \"\"\"Initializes loss function, optimizer, and scheduler for stability and efficiency.\"\"\"\n",
        "\n",
        "    criterion = nn.CrossEntropyLoss(label_smoothing=0.2)\n",
        "\n",
        "    optimizer = optim.Adam(model.parameters(), lr=0.0001, weight_decay=0.001)\n",
        "\n",
        "    scheduler = optim.lr_scheduler.ReduceLROnPlateau(optimizer, mode='max', factor=0.1, patience=3, verbose=True)\n",
        "\n",
        "    return criterion, optimizer, scheduler"
      ],
      "metadata": {
        "id": "Ar74dUQeVvWf"
      },
      "execution_count": 72,
      "outputs": []
    },
    {
      "cell_type": "code",
      "source": [
        "def mixup_criterion(criterion, pred, y_a, y_b, lam):\n",
        "    return lam * criterion(pred, y_a) + (1 - lam) * criterion(pred, y_b)"
      ],
      "metadata": {
        "id": "QDa6R1k4eR0-"
      },
      "execution_count": 40,
      "outputs": []
    },
    {
      "cell_type": "code",
      "source": [
        "def plot_accuracy(history):\n",
        "    \"\"\"Plots training & testing accuracy over epochs.\"\"\"\n",
        "    epochs = range(1, len(history[\"train_acc\"]) + 1)\n",
        "\n",
        "    plt.figure(figsize=(8, 5))\n",
        "    plt.plot(epochs, history[\"train_acc\"], label=\"Train Accuracy\", marker=\"o\", linestyle=\"-\")\n",
        "    plt.plot(epochs, history[\"test_acc\"], label=\"Test Accuracy\", marker=\"s\", linestyle=\"--\")\n",
        "\n",
        "    plt.xlabel(\"Epochs\")\n",
        "    plt.ylabel(\"Accuracy\")\n",
        "    plt.title(\"Training & Testing Accuracy Over Epochs\")\n",
        "    plt.legend()\n",
        "    plt.grid()\n",
        "    plt.show()\n",
        "\n",
        "def plot_confusion_matrix(true_labels, pred_labels):\n",
        "    \"\"\"Plots confusion matrix after training.\"\"\"\n",
        "    cm = confusion_matrix(true_labels, pred_labels)\n",
        "\n",
        "    plt.figure(figsize=(6, 5))\n",
        "    sns.heatmap(cm, annot=True, fmt=\"d\", cmap=\"Blues\", xticklabels=[\"Class 0\", \"Class 1\"], yticklabels=[\"Class 0\", \"Class 1\"])\n",
        "\n",
        "    plt.xlabel(\"Predicted\")\n",
        "    plt.ylabel(\"Actual\")\n",
        "    plt.title(\"Confusion Matrix\")\n",
        "    plt.show()\n"
      ],
      "metadata": {
        "id": "7NFMAyt2sM1P"
      },
      "execution_count": 78,
      "outputs": []
    },
    {
      "cell_type": "markdown",
      "source": [
        "## **7.  Define Training**"
      ],
      "metadata": {
        "id": "oHITDL9fz3ps"
      }
    },
    {
      "cell_type": "markdown",
      "source": [
        "This function trains a deep learning model while tracking accuracy and plotting results. It loops through a set number of epochs, training the model using the provided optimizer and loss function. During each epoch, it calculates training accuracy by comparing predicted labels with actual labels. After training, it evaluates the model on the test set without updating weights. It stores test accuracy, predictions, and labels for later analysis. If the model improves, it saves the best version. If performance does not improve for a set number of epochs, it stops training early. After training, it plots accuracy trends and generates a confusion matrix for performance visualization.\n"
      ],
      "metadata": {
        "id": "kLICRg_Ci_is"
      }
    },
    {
      "cell_type": "code",
      "source": [
        "def train_model(model, train_loader, test_loader, criterion, optimizer, scheduler, device, epochs=10, patience=5):\n",
        "    \"\"\"\n",
        "    Trains a model while tracking accuracy, showing progress percentage, estimating time left, and plotting results.\n",
        "\n",
        "    Returns:\n",
        "    - model: Best trained model.\n",
        "    - history: Dictionary containing accuracy values for plotting.\n",
        "    \"\"\"\n",
        "\n",
        "    best_accuracy = 0\n",
        "    patience_counter = 0\n",
        "    history = {\"train_acc\": [], \"test_acc\": []}\n",
        "\n",
        "    print(f\"\\n Training Model for {epochs} Epochs...\\n\")\n",
        "\n",
        "    start_time = time.time()\n",
        "\n",
        "    for epoch in range(epochs):\n",
        "        epoch_start = time.time()\n",
        "        model.train()\n",
        "        correct_train = 0\n",
        "        total_train = 0\n",
        "        num_batches = len(train_loader)\n",
        "\n",
        "        print(f\"\\nEpoch {epoch+1}/{epochs} Training...\")\n",
        "\n",
        "        # Training loop with progress percentage\n",
        "        for batch_idx, (images, labels) in enumerate(train_loader):\n",
        "            images, labels = images.to(device), labels.to(device)\n",
        "\n",
        "            optimizer.zero_grad()\n",
        "            outputs = model(images)\n",
        "            loss = criterion(outputs, labels)\n",
        "            loss.backward()\n",
        "            optimizer.step()\n",
        "\n",
        "            _, predicted = torch.max(outputs, 1)\n",
        "            correct_train += (predicted == labels).sum().item()\n",
        "            total_train += labels.size(0)\n",
        "\n",
        "            # Live progress update\n",
        "            progress = int((batch_idx + 1) / num_batches * 100)\n",
        "            time_per_batch = (time.time() - epoch_start) / (batch_idx + 1)\n",
        "            estimated_time = (num_batches - (batch_idx + 1)) * time_per_batch\n",
        "\n",
        "            print(f\"\\rTraining Progress: {progress}% | Estimated Time Left: {estimated_time:.2f}s\", end=\"\")\n",
        "\n",
        "        train_accuracy = correct_train / total_train\n",
        "        history[\"train_acc\"].append(train_accuracy)\n",
        "\n",
        "        # Validation loop\n",
        "        model.eval()\n",
        "        correct_test = 0\n",
        "        total_test = 0\n",
        "        all_preds = []\n",
        "        all_labels = []\n",
        "\n",
        "        with torch.no_grad():\n",
        "            for images, labels in test_loader:\n",
        "                images, labels = images.to(device), labels.to(device)\n",
        "                outputs = model(images)\n",
        "                _, predicted = torch.max(outputs, 1)\n",
        "\n",
        "                correct_test += (predicted == labels).sum().item()\n",
        "                total_test += labels.size(0)\n",
        "\n",
        "                # Store predictions and actual labels for confusion matrix\n",
        "                all_preds.extend(predicted.cpu().numpy())\n",
        "                all_labels.extend(labels.cpu().numpy())\n",
        "\n",
        "        test_accuracy = correct_test / total_test\n",
        "        history[\"test_acc\"].append(test_accuracy)\n",
        "\n",
        "        epoch_duration = time.time() - epoch_start\n",
        "        print(f\"\\nEpoch {epoch+1}/{epochs} Completed: Train Acc: {train_accuracy:.4f}, Test Acc: {test_accuracy:.4f} | Time Taken: {epoch_duration:.2f}s\")\n",
        "\n",
        "        if test_accuracy > best_accuracy:\n",
        "            best_accuracy = test_accuracy\n",
        "            torch.save(model.state_dict(), \"best_checkpoint.model\")\n",
        "            patience_counter = 0  #\n",
        "        else:\n",
        "            patience_counter += 1\n",
        "\n",
        "        if patience_counter >= patience:\n",
        "            print(f\"Early stopping at epoch {epoch+1}. Best test accuracy: {best_accuracy:.4f}\")\n",
        "            break\n",
        "\n",
        "        if scheduler:\n",
        "            scheduler.step(test_accuracy)\n",
        "\n",
        "    total_training_time = time.time() - start_time\n",
        "    print(f\"\\n Training Completed in {total_training_time:.2f}s\")\n",
        "\n",
        "    plot_accuracy(history)\n",
        "    plot_confusion_matrix(all_labels, all_preds)\n",
        "\n",
        "    return model"
      ],
      "metadata": {
        "id": "55cFZUklA7BW"
      },
      "execution_count": 81,
      "outputs": []
    },
    {
      "cell_type": "markdown",
      "source": [
        "## **8.  Define Validation**"
      ],
      "metadata": {
        "id": "vpRyZup6LWiu"
      }
    },
    {
      "cell_type": "markdown",
      "source": [
        "This function evaluates a trained model using a test dataset and prints performance metrics. It switches the model to evaluation mode and processes the test images without updating weights. It computes predictions by selecting the class with the highest probability and extracts confidence scores for class 1. The function calculates overall accuracy by comparing predictions with actual labels. It generates a confusion matrix and automatically detects the number of unique classes to create class labels dynamically. It computes precision, recall, F1-score, and ROC-AUC score to assess classification performance. Finally, it prints a detailed classification report and visualizes the confusion matrix using a heatmap."
      ],
      "metadata": {
        "id": "-MVHkOLljLhZ"
      }
    },
    {
      "cell_type": "code",
      "source": [
        "def validate_model(model, test_loader, device):\n",
        "    \"\"\"Evaluates the model and prints performance metrics.\"\"\"\n",
        "    model.eval()\n",
        "    correct, total = 0, 0\n",
        "    all_labels, all_predictions, all_probs = [], [], []\n",
        "\n",
        "    with torch.no_grad():\n",
        "        for images, labels in test_loader:\n",
        "            images, labels = images.to(device), labels.to(device)\n",
        "\n",
        "            outputs = model(images)\n",
        "\n",
        "            _, predicted = torch.max(outputs, 1)\n",
        "            probs = F.softmax(outputs, dim=1)[:, 1]  # Probability for class 1\n",
        "\n",
        "            total += labels.size(0)\n",
        "            correct += (predicted == labels).sum().item()\n",
        "            all_labels.extend(labels.cpu().numpy())\n",
        "            all_predictions.extend(predicted.cpu().numpy())\n",
        "            all_probs.extend(probs.cpu().numpy())\n",
        "\n",
        "    accuracy = 100 * correct / total\n",
        "    conf_matrix = confusion_matrix(all_labels, all_predictions)\n",
        "\n",
        "    # Automatically detect number of classes\n",
        "    unique_classes = sorted(set(all_labels))\n",
        "    num_classes = len(unique_classes)\n",
        "\n",
        "    # Dynamically create class names\n",
        "    target_names = [f\"Class {i}\" for i in unique_classes]\n",
        "\n",
        "    precision = precision_score(all_labels, all_predictions, average='weighted', zero_division=0)\n",
        "    recall = recall_score(all_labels, all_predictions, average='weighted', zero_division=0)\n",
        "    f1 = f1_score(all_labels, all_predictions, average='weighted', zero_division=0)\n",
        "    roc_auc = roc_auc_score(all_labels, all_probs, multi_class=\"ovr\")\n",
        "\n",
        "    print(f\"\\nTest Accuracy: {accuracy:.2f}%\")\n",
        "    print(f\"Precision: {precision:.2f}\")\n",
        "    print(f\"Recall: {recall:.2f}\")\n",
        "    print(f\"F1-Score: {f1:.2f}\")\n",
        "    print(f\"ROC-AUC Score: {roc_auc:.2f}\")\n",
        "    print(\"\\nClassification Report:\")\n",
        "    print(classification_report(all_labels, all_predictions, target_names=target_names))\n",
        "\n",
        "    return accuracy"
      ],
      "metadata": {
        "id": "vHwX7e-AIw6J"
      },
      "execution_count": 82,
      "outputs": []
    },
    {
      "cell_type": "markdown",
      "source": [
        "## **9. Uploading best model**"
      ],
      "metadata": {
        "id": "bVXEQsQ7Q1z6"
      }
    },
    {
      "cell_type": "markdown",
      "source": [],
      "metadata": {
        "id": "js4YHrOEjcpf"
      }
    },
    {
      "cell_type": "code",
      "source": [
        "# Function to get the Hugging Face token from Colab secrets\n",
        "def get_huggingface_token():\n",
        "    \"\"\"Fetches the stored Hugging Face token from Google Colab secrets, logs in, and returns the token.\"\"\"\n",
        "    from google.colab import userdata\n",
        "    from huggingface_hub import login  # Ensure you have huggingface_hub installed\n",
        "\n",
        "    hf_token = userdata.get(\"HF_TOKEN\")\n",
        "\n",
        "    if hf_token:\n",
        "        login(token=hf_token)\n",
        "        print(\"Successfully logged in to Hugging Face!\")\n",
        "        return hf_token\n",
        "    else:\n",
        "        print(\"Hugging Face token not found. Please set it manually in Colab secrets.\")\n",
        "        return None\n",
        "\n",
        "\n",
        "def get_repo_id_and_model(hf_token, model_name):\n",
        "    \"\"\"Generates the repository ID and model filename for Hugging Face models.\"\"\"\n",
        "    try:\n",
        "        user_info = whoami(token=hf_token)\n",
        "        username = user_info.get(\"name\") or user_info.get(\"login\", \"Unknown User\")\n",
        "\n",
        "        if username == \"Unknown User\":\n",
        "            print(\"Error: Could not retrieve username. Please check your token.\")\n",
        "            return None, None\n",
        "\n",
        "        repo_id = f\"{username}/{model_name}\"\n",
        "        model_filename = f\"best_{model_name}\"\n",
        "\n",
        "        print(\"Repo ID:\", repo_id)\n",
        "        print(\"Model Filename:\", model_filename)\n",
        "\n",
        "        return repo_id, model_filename\n",
        "    except Exception as e:\n",
        "        print(f\"Error fetching repo ID: {e}\")\n",
        "        return None, None\n",
        "\n",
        "\n",
        "def upload_new_model_with_timestamp(model, repo_id, model_name, hf_token=None):\n",
        "    \"\"\"Uploads the model with a timestamp to Hugging Face.\"\"\"\n",
        "    if hf_token:\n",
        "        login(token=hf_token)\n",
        "    else:\n",
        "        print(\"Hugging Face token is missing.\")\n",
        "        return\n",
        "\n",
        "    try:\n",
        "        list_repo_files(repo_id, token=hf_token)\n",
        "    except Exception:\n",
        "        create_repo(repo_id, exist_ok=True, token=hf_token)\n",
        "\n",
        "    timestamp = time.strftime(\"%Y%m%d_%H%M%S\")\n",
        "    model_filename = f\"{model_name}_{timestamp}.pth\"\n",
        "\n",
        "    torch.save(model.state_dict(), model_filename)\n",
        "    upload_file(path_or_fileobj=model_filename, path_in_repo=model_filename, repo_id=repo_id, token=hf_token)\n",
        "    print(f\"Model uploaded as {repo_id}/{model_filename}\")\n"
      ],
      "metadata": {
        "id": "HwilWrTWQ72m"
      },
      "execution_count": 15,
      "outputs": []
    },
    {
      "cell_type": "markdown",
      "source": [
        "## **10.  Main Function**"
      ],
      "metadata": {
        "id": "auwk7XesBWiu"
      }
    },
    {
      "cell_type": "markdown",
      "source": [
        "This function runs the full training and evaluation process step by step."
      ],
      "metadata": {
        "id": "ZHvME-BHjiEM"
      }
    },
    {
      "cell_type": "code",
      "source": [
        "def main():\n",
        "\n",
        "    # Variables\n",
        "    EPOCHS = 8\n",
        "    MODEL_NAME = \"cars_vs_planes_model\"\n",
        "\n",
        "    \"\"\"Runs the full training and evaluation pipeline.\"\"\"\n",
        "    print(\"### Getting Hugging Face authentication ###\")\n",
        "    hf_token = get_huggingface_token()\n",
        "\n",
        "    repo_id, model_filename = get_repo_id_and_model(hf_token, MODEL_NAME)\n",
        "\n",
        "    print(repo_id)\n",
        "    device = setup_device()\n",
        "\n",
        "    print(\"### Loading datasets ###\")\n",
        "    planes_dataset, cars_dataset = load_datasets()\n",
        "\n",
        "    print(\"### Labeling datasets ###\")\n",
        "    planes_dataset, cars_dataset = label_datasets(planes_dataset, cars_dataset)\n",
        "\n",
        "    print(\"### Merging and balancing datasets ###\")\n",
        "    final_dataset = merge_and_balance_datasets(planes_dataset, cars_dataset)\n",
        "\n",
        "    print(\"### Applying data transformations ###\")\n",
        "    transform_train, transform_test = get_transforms()\n",
        "\n",
        "    print(\"### Creating DataLoaders ###\")\n",
        "    train_loader, test_loader = prepare_datasets(final_dataset, transform_train, transform_test)\n",
        "\n",
        "    print(\"### Initializing model ###\")\n",
        "    model = setup_model(device)\n",
        "    criterion, optimizer, scheduler = setup_training_components(model, train_loader)\n",
        "\n",
        "    print(\"### Training the model ###\")\n",
        "    trained_model = train_model(model, train_loader, test_loader, criterion, optimizer, scheduler, device, epochs=EPOCHS)\n",
        "\n",
        "    print(\"### validating the best model ###\")\n",
        "    validate_model(trained_model, test_loader, device)\n",
        "\n",
        "    print(\"### Uploading the trained model ###\")\n",
        "    upload_new_model_with_timestamp(trained_model, repo_id, model_filename, hf_token)\n",
        "\n",
        "if __name__ == \"__main__\":\n",
        "    main()"
      ],
      "metadata": {
        "colab": {
          "base_uri": "https://localhost:8080/",
          "height": 1000
        },
        "id": "AvlxJl7gBO4N",
        "outputId": "e6c308f2-820b-44c4-f2aa-27362401bfa4"
      },
      "execution_count": 83,
      "outputs": [
        {
          "output_type": "stream",
          "name": "stdout",
          "text": [
            "### Getting Hugging Face authentication ###\n",
            "Successfully logged in to Hugging Face!\n",
            "Error fetching repo ID: Invalid user token. If you didn't pass a user token, make sure you are properly logged in by executing `huggingface-cli login`, and if you did pass a user token, double-check it's correct.\n",
            "### Loading datasets ###\n",
            "### Labeling datasets ###\n",
            "### Merging and balancing datasets ###\n",
            "Before balancing: 8000 planes, 6515 cars\n",
            "After balancing: 16000 total training samples\n",
            "### Applying data transformations ###\n",
            "### Creating DataLoaders ###\n",
            "### Initializing model ###\n"
          ]
        },
        {
          "output_type": "stream",
          "name": "stderr",
          "text": [
            "/usr/local/lib/python3.11/dist-packages/torch/optim/lr_scheduler.py:62: UserWarning: The verbose parameter is deprecated. Please use get_last_lr() to access the learning rate.\n",
            "  warnings.warn(\n"
          ]
        },
        {
          "output_type": "stream",
          "name": "stdout",
          "text": [
            "### Training the model ###\n",
            "\n",
            " Training Model for 8 Epochs...\n",
            "\n",
            "\n",
            "Epoch 1/8 Training...\n",
            "Training Progress: 100% | Estimated Time Left: 0.00s\n",
            "Epoch 1/8 Completed: Train Acc: 0.8535, Test Acc: 0.8804 | Time Taken: 277.57s\n",
            "\n",
            "Epoch 2/8 Training...\n",
            "Training Progress: 100% | Estimated Time Left: 0.00s\n",
            "Epoch 2/8 Completed: Train Acc: 0.9151, Test Acc: 0.9755 | Time Taken: 277.47s\n",
            "\n",
            "Epoch 3/8 Training...\n",
            "Training Progress: 100% | Estimated Time Left: 0.00s\n",
            "Epoch 3/8 Completed: Train Acc: 0.9343, Test Acc: 0.9813 | Time Taken: 277.65s\n",
            "\n",
            "Epoch 4/8 Training...\n",
            "Training Progress: 100% | Estimated Time Left: 0.00s\n",
            "Epoch 4/8 Completed: Train Acc: 0.9436, Test Acc: 0.9868 | Time Taken: 277.43s\n",
            "\n",
            "Epoch 5/8 Training...\n",
            "Training Progress: 100% | Estimated Time Left: 0.00s\n",
            "Epoch 5/8 Completed: Train Acc: 0.9552, Test Acc: 0.9832 | Time Taken: 276.55s\n",
            "\n",
            "Epoch 6/8 Training...\n",
            "Training Progress: 100% | Estimated Time Left: 0.00s\n",
            "Epoch 6/8 Completed: Train Acc: 0.9576, Test Acc: 0.9906 | Time Taken: 277.13s\n",
            "\n",
            "Epoch 7/8 Training...\n",
            "Training Progress: 100% | Estimated Time Left: 0.00s\n",
            "Epoch 7/8 Completed: Train Acc: 0.9617, Test Acc: 0.9901 | Time Taken: 276.78s\n",
            "\n",
            "Epoch 8/8 Training...\n",
            "Training Progress: 100% | Estimated Time Left: 0.00s\n",
            "Epoch 8/8 Completed: Train Acc: 0.9637, Test Acc: 0.9937 | Time Taken: 277.05s\n",
            "\n",
            " Training Completed in 2219.23s\n"
          ]
        },
        {
          "output_type": "display_data",
          "data": {
            "text/plain": [
              "<Figure size 800x500 with 1 Axes>"
            ],
            "image/png": "[encoded data removed]"
          },
          "metadata": {}
        },
        {
          "output_type": "display_data",
          "data": {
            "text/plain": [
              "<Figure size 600x500 with 2 Axes>"
            ],
            "image/png": "[encoded data removed]"
          },
          "metadata": {}
        },
        {
          "output_type": "stream",
          "name": "stdout",
          "text": [
            "### validating the best model ###\n",
            "\n",
            "Test Accuracy: 99.37%\n",
            "Precision: 0.99\n",
            "Recall: 0.99\n",
            "F1-Score: 0.99\n",
            "ROC-AUC Score: 1.00\n",
            "\n",
            "Classification Report:\n",
            "              precision    recall  f1-score   support\n",
            "\n",
            "     Class 0       0.99      1.00      0.99      1629\n",
            "     Class 1       1.00      0.99      0.99      2000\n",
            "\n",
            "    accuracy                           0.99      3629\n",
            "   macro avg       0.99      0.99      0.99      3629\n",
            "weighted avg       0.99      0.99      0.99      3629\n",
            "\n",
            "### Uploading the trained model ###\n"
          ]
        },
        {
          "output_type": "error",
          "ename": "HFValidationError",
          "evalue": "Repo id must be a string, not <class 'NoneType'>: 'None'.",
          "traceback": [
            "\u001b[0;31m---------------------------------------------------------------------------\u001b[0m",
            "\u001b[0;31mHFValidationError\u001b[0m                         Traceback (most recent call last)",
            "\u001b[0;32m<ipython-input-15-783967213f2b>\u001b[0m in \u001b[0;36mupload_new_model_with_timestamp\u001b[0;34m(model, repo_id, model_name, hf_token)\u001b[0m\n\u001b[1;32m     48\u001b[0m     \u001b[0;32mtry\u001b[0m\u001b[0;34m:\u001b[0m\u001b[0;34m\u001b[0m\u001b[0;34m\u001b[0m\u001b[0m\n\u001b[0;32m---> 49\u001b[0;31m         \u001b[0mlist_repo_files\u001b[0m\u001b[0;34m(\u001b[0m\u001b[0mrepo_id\u001b[0m\u001b[0;34m,\u001b[0m \u001b[0mtoken\u001b[0m\u001b[0;34m=\u001b[0m\u001b[0mhf_token\u001b[0m\u001b[0;34m)\u001b[0m\u001b[0;34m\u001b[0m\u001b[0;34m\u001b[0m\u001b[0m\n\u001b[0m\u001b[1;32m     50\u001b[0m     \u001b[0;32mexcept\u001b[0m \u001b[0mException\u001b[0m\u001b[0;34m:\u001b[0m\u001b[0;34m\u001b[0m\u001b[0;34m\u001b[0m\u001b[0m\n",
            "\u001b[0;32m/usr/local/lib/python3.11/dist-packages/huggingface_hub/utils/_validators.py\u001b[0m in \u001b[0;36m_inner_fn\u001b[0;34m(*args, **kwargs)\u001b[0m\n\u001b[1;32m    105\u001b[0m             \u001b[0;32mif\u001b[0m \u001b[0marg_name\u001b[0m \u001b[0;32min\u001b[0m \u001b[0;34m[\u001b[0m\u001b[0;34m\"repo_id\"\u001b[0m\u001b[0;34m,\u001b[0m \u001b[0;34m\"from_id\"\u001b[0m\u001b[0;34m,\u001b[0m \u001b[0;34m\"to_id\"\u001b[0m\u001b[0;34m]\u001b[0m\u001b[0;34m:\u001b[0m\u001b[0;34m\u001b[0m\u001b[0;34m\u001b[0m\u001b[0m\n\u001b[0;32m--> 106\u001b[0;31m                 \u001b[0mvalidate_repo_id\u001b[0m\u001b[0;34m(\u001b[0m\u001b[0marg_value\u001b[0m\u001b[0;34m)\u001b[0m\u001b[0;34m\u001b[0m\u001b[0;34m\u001b[0m\u001b[0m\n\u001b[0m\u001b[1;32m    107\u001b[0m \u001b[0;34m\u001b[0m\u001b[0m\n",
            "\u001b[0;32m/usr/local/lib/python3.11/dist-packages/huggingface_hub/utils/_validators.py\u001b[0m in \u001b[0;36mvalidate_repo_id\u001b[0;34m(repo_id)\u001b[0m\n\u001b[1;32m    150\u001b[0m         \u001b[0;31m# Typically, a Path is not a repo_id\u001b[0m\u001b[0;34m\u001b[0m\u001b[0;34m\u001b[0m\u001b[0m\n\u001b[0;32m--> 151\u001b[0;31m         \u001b[0;32mraise\u001b[0m \u001b[0mHFValidationError\u001b[0m\u001b[0;34m(\u001b[0m\u001b[0;34mf\"Repo id must be a string, not {type(repo_id)}: '{repo_id}'.\"\u001b[0m\u001b[0;34m)\u001b[0m\u001b[0;34m\u001b[0m\u001b[0;34m\u001b[0m\u001b[0m\n\u001b[0m\u001b[1;32m    152\u001b[0m \u001b[0;34m\u001b[0m\u001b[0m\n",
            "\u001b[0;31mHFValidationError\u001b[0m: Repo id must be a string, not <class 'NoneType'>: 'None'.",
            "\nDuring handling of the above exception, another exception occurred:\n",
            "\u001b[0;31mHFValidationError\u001b[0m                         Traceback (most recent call last)",
            "\u001b[0;32m<ipython-input-83-6d8f112a69b8>\u001b[0m in \u001b[0;36m<cell line: 0>\u001b[0;34m()\u001b[0m\n\u001b[1;32m     42\u001b[0m \u001b[0;34m\u001b[0m\u001b[0m\n\u001b[1;32m     43\u001b[0m \u001b[0;32mif\u001b[0m \u001b[0m__name__\u001b[0m \u001b[0;34m==\u001b[0m \u001b[0;34m\"__main__\"\u001b[0m\u001b[0;34m:\u001b[0m\u001b[0;34m\u001b[0m\u001b[0;34m\u001b[0m\u001b[0m\n\u001b[0;32m---> 44\u001b[0;31m     \u001b[0mmain\u001b[0m\u001b[0;34m(\u001b[0m\u001b[0;34m)\u001b[0m\u001b[0;34m\u001b[0m\u001b[0;34m\u001b[0m\u001b[0m\n\u001b[0m",
            "\u001b[0;32m<ipython-input-83-6d8f112a69b8>\u001b[0m in \u001b[0;36mmain\u001b[0;34m()\u001b[0m\n\u001b[1;32m     39\u001b[0m \u001b[0;34m\u001b[0m\u001b[0m\n\u001b[1;32m     40\u001b[0m     \u001b[0mprint\u001b[0m\u001b[0;34m(\u001b[0m\u001b[0;34m\"### Uploading the trained model ###\"\u001b[0m\u001b[0;34m)\u001b[0m\u001b[0;34m\u001b[0m\u001b[0;34m\u001b[0m\u001b[0m\n\u001b[0;32m---> 41\u001b[0;31m     \u001b[0mupload_new_model_with_timestamp\u001b[0m\u001b[0;34m(\u001b[0m\u001b[0mtrained_model\u001b[0m\u001b[0;34m,\u001b[0m \u001b[0mrepo_id\u001b[0m\u001b[0;34m,\u001b[0m \u001b[0mmodel_filename\u001b[0m\u001b[0;34m,\u001b[0m \u001b[0mhf_token\u001b[0m\u001b[0;34m)\u001b[0m\u001b[0;34m\u001b[0m\u001b[0;34m\u001b[0m\u001b[0m\n\u001b[0m\u001b[1;32m     42\u001b[0m \u001b[0;34m\u001b[0m\u001b[0m\n\u001b[1;32m     43\u001b[0m \u001b[0;32mif\u001b[0m \u001b[0m__name__\u001b[0m \u001b[0;34m==\u001b[0m \u001b[0;34m\"__main__\"\u001b[0m\u001b[0;34m:\u001b[0m\u001b[0;34m\u001b[0m\u001b[0;34m\u001b[0m\u001b[0m\n",
            "\u001b[0;32m<ipython-input-15-783967213f2b>\u001b[0m in \u001b[0;36mupload_new_model_with_timestamp\u001b[0;34m(model, repo_id, model_name, hf_token)\u001b[0m\n\u001b[1;32m     49\u001b[0m         \u001b[0mlist_repo_files\u001b[0m\u001b[0;34m(\u001b[0m\u001b[0mrepo_id\u001b[0m\u001b[0;34m,\u001b[0m \u001b[0mtoken\u001b[0m\u001b[0;34m=\u001b[0m\u001b[0mhf_token\u001b[0m\u001b[0;34m)\u001b[0m\u001b[0;34m\u001b[0m\u001b[0;34m\u001b[0m\u001b[0m\n\u001b[1;32m     50\u001b[0m     \u001b[0;32mexcept\u001b[0m \u001b[0mException\u001b[0m\u001b[0;34m:\u001b[0m\u001b[0;34m\u001b[0m\u001b[0;34m\u001b[0m\u001b[0m\n\u001b[0;32m---> 51\u001b[0;31m         \u001b[0mcreate_repo\u001b[0m\u001b[0;34m(\u001b[0m\u001b[0mrepo_id\u001b[0m\u001b[0;34m,\u001b[0m \u001b[0mexist_ok\u001b[0m\u001b[0;34m=\u001b[0m\u001b[0;32mTrue\u001b[0m\u001b[0;34m,\u001b[0m \u001b[0mtoken\u001b[0m\u001b[0;34m=\u001b[0m\u001b[0mhf_token\u001b[0m\u001b[0;34m)\u001b[0m\u001b[0;34m\u001b[0m\u001b[0;34m\u001b[0m\u001b[0m\n\u001b[0m\u001b[1;32m     52\u001b[0m \u001b[0;34m\u001b[0m\u001b[0m\n\u001b[1;32m     53\u001b[0m     \u001b[0mtimestamp\u001b[0m \u001b[0;34m=\u001b[0m \u001b[0mtime\u001b[0m\u001b[0;34m.\u001b[0m\u001b[0mstrftime\u001b[0m\u001b[0;34m(\u001b[0m\u001b[0;34m\"%Y%m%d_%H%M%S\"\u001b[0m\u001b[0;34m)\u001b[0m\u001b[0;34m\u001b[0m\u001b[0;34m\u001b[0m\u001b[0m\n",
            "\u001b[0;32m/usr/local/lib/python3.11/dist-packages/huggingface_hub/utils/_validators.py\u001b[0m in \u001b[0;36m_inner_fn\u001b[0;34m(*args, **kwargs)\u001b[0m\n\u001b[1;32m    104\u001b[0m         ):\n\u001b[1;32m    105\u001b[0m             \u001b[0;32mif\u001b[0m \u001b[0marg_name\u001b[0m \u001b[0;32min\u001b[0m \u001b[0;34m[\u001b[0m\u001b[0;34m\"repo_id\"\u001b[0m\u001b[0;34m,\u001b[0m \u001b[0;34m\"from_id\"\u001b[0m\u001b[0;34m,\u001b[0m \u001b[0;34m\"to_id\"\u001b[0m\u001b[0;34m]\u001b[0m\u001b[0;34m:\u001b[0m\u001b[0;34m\u001b[0m\u001b[0;34m\u001b[0m\u001b[0m\n\u001b[0;32m--> 106\u001b[0;31m                 \u001b[0mvalidate_repo_id\u001b[0m\u001b[0;34m(\u001b[0m\u001b[0marg_value\u001b[0m\u001b[0;34m)\u001b[0m\u001b[0;34m\u001b[0m\u001b[0;34m\u001b[0m\u001b[0m\n\u001b[0m\u001b[1;32m    107\u001b[0m \u001b[0;34m\u001b[0m\u001b[0m\n\u001b[1;32m    108\u001b[0m             \u001b[0;32melif\u001b[0m \u001b[0marg_name\u001b[0m \u001b[0;34m==\u001b[0m \u001b[0;34m\"token\"\u001b[0m \u001b[0;32mand\u001b[0m \u001b[0marg_value\u001b[0m \u001b[0;32mis\u001b[0m \u001b[0;32mnot\u001b[0m \u001b[0;32mNone\u001b[0m\u001b[0;34m:\u001b[0m\u001b[0;34m\u001b[0m\u001b[0;34m\u001b[0m\u001b[0m\n",
            "\u001b[0;32m/usr/local/lib/python3.11/dist-packages/huggingface_hub/utils/_validators.py\u001b[0m in \u001b[0;36mvalidate_repo_id\u001b[0;34m(repo_id)\u001b[0m\n\u001b[1;32m    149\u001b[0m     \u001b[0;32mif\u001b[0m \u001b[0;32mnot\u001b[0m \u001b[0misinstance\u001b[0m\u001b[0;34m(\u001b[0m\u001b[0mrepo_id\u001b[0m\u001b[0;34m,\u001b[0m \u001b[0mstr\u001b[0m\u001b[0;34m)\u001b[0m\u001b[0;34m:\u001b[0m\u001b[0;34m\u001b[0m\u001b[0;34m\u001b[0m\u001b[0m\n\u001b[1;32m    150\u001b[0m         \u001b[0;31m# Typically, a Path is not a repo_id\u001b[0m\u001b[0;34m\u001b[0m\u001b[0;34m\u001b[0m\u001b[0m\n\u001b[0;32m--> 151\u001b[0;31m         \u001b[0;32mraise\u001b[0m \u001b[0mHFValidationError\u001b[0m\u001b[0;34m(\u001b[0m\u001b[0;34mf\"Repo id must be a string, not {type(repo_id)}: '{repo_id}'.\"\u001b[0m\u001b[0;34m)\u001b[0m\u001b[0;34m\u001b[0m\u001b[0;34m\u001b[0m\u001b[0m\n\u001b[0m\u001b[1;32m    152\u001b[0m \u001b[0;34m\u001b[0m\u001b[0m\n\u001b[1;32m    153\u001b[0m     \u001b[0;32mif\u001b[0m \u001b[0mrepo_id\u001b[0m\u001b[0;34m.\u001b[0m\u001b[0mcount\u001b[0m\u001b[0;34m(\u001b[0m\u001b[0;34m\"/\"\u001b[0m\u001b[0;34m)\u001b[0m \u001b[0;34m>\u001b[0m \u001b[0;36m1\u001b[0m\u001b[0;34m:\u001b[0m\u001b[0;34m\u001b[0m\u001b[0;34m\u001b[0m\u001b[0m\n",
            "\u001b[0;31mHFValidationError\u001b[0m: Repo id must be a string, not <class 'NoneType'>: 'None'."
          ]
        }
      ]
    }
  ]
}